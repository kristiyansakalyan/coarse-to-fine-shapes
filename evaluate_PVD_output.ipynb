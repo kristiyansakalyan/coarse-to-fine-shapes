{
 "cells": [
  {
   "cell_type": "code",
   "execution_count": 2,
   "metadata": {},
   "outputs": [
    {
     "name": "stdout",
     "output_type": "stream",
     "text": [
      "Jitting Chamfer 3D\n",
      "Loaded JIT 3D CUDA chamfer distance\n"
     ]
    }
   ],
   "source": [
    "import torch\n",
    "from datasets.shapenet_data_pc import ShapeNet15kPointClouds\n",
    "from datasets.pvd_data_pc import ShapeNet15kPointCloudsPVD\n",
    "from metrics.evaluation_metrics import compute_all_metrics"
   ]
  },
  {
   "cell_type": "code",
   "execution_count": 3,
   "metadata": {},
   "outputs": [
    {
     "name": "stdout",
     "output_type": "stream",
     "text": [
      "Total number of data:662\n",
      "Min number of points: (train)2048 (test)2048\n",
      "Total number of data:405\n",
      "Min number of points: (train)5000 (test)5000\n",
      "Total number of data:400\n",
      "Min number of points: (train)2048 (test)2048\n",
      "Total number of data:400\n",
      "Min number of points: (train)2048 (test)2048\n"
     ]
    }
   ],
   "source": [
    "chair_dataset = ShapeNet15kPointClouds(\n",
    "    root_dir=\"./ShapeNetCore.v2.PC15k\",\n",
    "    categories=[\"chair\"],\n",
    "    split=\"val\",\n",
    "    tr_sample_size=2048,\n",
    "    te_sample_size=2048,\n",
    "    scale=1.0,\n",
    "    normalize_per_shape=False,\n",
    "    normalize_std_per_axis=False,\n",
    "    random_subsample=True,\n",
    ")\n",
    "\n",
    "airplane_dataset = ShapeNet15kPointClouds(\n",
    "    root_dir=\"./ShapeNetCore.v2.PC15k\",\n",
    "    categories=[\"airplane\"],\n",
    "    split=\"val\",\n",
    "    tr_sample_size=5000,\n",
    "    te_sample_size=5000,\n",
    "    scale=1.0,\n",
    "    normalize_per_shape=False,\n",
    "    normalize_std_per_axis=False,\n",
    "    random_subsample=True,\n",
    ")\n",
    "\n",
    "pvd_airplane_dataset = ShapeNet15kPointCloudsPVD(\n",
    "    root_dir=\"./custom-dataset\",\n",
    "    categories=[\"airplane\"],\n",
    "    split=\"train\",\n",
    "    tr_sample_size=2048,\n",
    "    te_sample_size=2048,\n",
    "    scale=1.0,\n",
    "    normalize_per_shape=False,\n",
    "    normalize_std_per_axis=False,\n",
    "    random_subsample=True,\n",
    ")\n",
    "\n",
    "pvd_chair_dataset = ShapeNet15kPointCloudsPVD(\n",
    "    root_dir=\"./custom-dataset\",\n",
    "    categories=[\"chair\"],\n",
    "    split=\"train\",\n",
    "    tr_sample_size=2048,\n",
    "    te_sample_size=2048,\n",
    "    scale=1.0,\n",
    "    normalize_per_shape=False,\n",
    "    normalize_std_per_axis=False,\n",
    "    random_subsample=True,\n",
    ")"
   ]
  },
  {
   "cell_type": "code",
   "execution_count": 4,
   "metadata": {},
   "outputs": [],
   "source": [
    "BATCH_SIZE = 50\n",
    "\n",
    "shapenet_dataloader_airplane = torch.utils.data.DataLoader(\n",
    "    airplane_dataset,\n",
    "    batch_size=BATCH_SIZE,\n",
    "    sampler=None,\n",
    "    shuffle=True is None,\n",
    "    num_workers=1,\n",
    "    drop_last=True,\n",
    ")\n",
    "\n",
    "shapenet_dataloader_chair = torch.utils.data.DataLoader(\n",
    "    chair_dataset,\n",
    "    batch_size=BATCH_SIZE,\n",
    "    sampler=None,\n",
    "    shuffle=True is None,\n",
    "    num_workers=1,\n",
    "    drop_last=True,\n",
    ")\n",
    "\n",
    "pvd_dataloader_airplane = torch.utils.data.DataLoader(\n",
    "    pvd_airplane_dataset,\n",
    "    batch_size=BATCH_SIZE,\n",
    "    sampler=None,\n",
    "    shuffle=True is None,\n",
    "    num_workers=1,\n",
    "    drop_last=True,\n",
    ")\n",
    "\n",
    "pvd_dataloader_chair = torch.utils.data.DataLoader(\n",
    "    pvd_chair_dataset,\n",
    "    batch_size=BATCH_SIZE,\n",
    "    sampler=None,\n",
    "    shuffle=True is None,\n",
    "    num_workers=1,\n",
    "    drop_last=True,\n",
    ")"
   ]
  },
  {
   "cell_type": "code",
   "execution_count": 5,
   "metadata": {},
   "outputs": [],
   "source": [
    "shapenet_input_arr = []\n",
    "pvd_output_arr = []\n",
    "\n",
    "for batch_shapenet, batch_pvd in zip(shapenet_dataloader_airplane, pvd_dataloader_airplane):\n",
    "    shapenet_input = batch_shapenet[\"test_points\"].to(\"cuda\")\n",
    "    pvd_output = batch_pvd[\"test_points\"].to(\"cuda\")\n",
    "\n",
    "    shapenet_input_arr.append(shapenet_input)\n",
    "    pvd_output_arr.append(pvd_output)"
   ]
  },
  {
   "cell_type": "code",
   "execution_count": 6,
   "metadata": {},
   "outputs": [
    {
     "data": {
      "text/plain": [
       "(torch.Size([400, 5000, 3]), torch.Size([400, 2048, 3]))"
      ]
     },
     "execution_count": 6,
     "metadata": {},
     "output_type": "execute_result"
    }
   ],
   "source": [
    "input_airplane_pcs = torch.stack(shapenet_input_arr).view(400, 5000, 3)\n",
    "output_airplane_pcs = torch.stack(pvd_output_arr).view(400, 2048, 3)\n",
    "input_airplane_pcs.shape, output_airplane_pcs.shape"
   ]
  },
  {
   "cell_type": "code",
   "execution_count": 7,
   "metadata": {},
   "outputs": [
    {
     "name": "stderr",
     "output_type": "stream",
     "text": [
      "100%|██████████| 400/400 [09:12<00:00,  1.38s/it]\n",
      "100%|██████████| 400/400 [03:46<00:00,  1.77it/s]\n",
      "100%|██████████| 400/400 [24:14<00:00,  3.61s/it]"
     ]
    },
    {
     "name": "stdout",
     "output_type": "stream",
     "text": [
      "{'lgan_mmd-CD': 0.06428211182355881, 'lgan_cov-CD': 0.3474999964237213, 'lgan_mmd_smp-CD': 0.01850527711212635, 'lgan_mmd-EMD': 0.3960535526275635, 'lgan_cov-EMD': 0.35499998927116394, 'lgan_mmd_smp-EMD': 0.10759074985980988, '1-NN-CD-acc_t': 0.5149999856948853, '1-NN-CD-acc_f': 0.9449999928474426, '1-NN-CD-acc': 0.7300000190734863, '1-NN-EMD-acc_t': 0.22499999403953552, '1-NN-EMD-acc_f': 0.012500000186264515, '1-NN-EMD-acc': 0.11874999850988388}\n"
     ]
    },
    {
     "name": "stderr",
     "output_type": "stream",
     "text": [
      "\n"
     ]
    }
   ],
   "source": [
    "results = compute_all_metrics(input_airplane_pcs, output_airplane_pcs, 50)\n",
    "results = {k: (v.cpu().detach().item()\n",
    "                if not isinstance(v, float) else v) for k, v in results.items()}\n",
    "\n",
    "print(results)"
   ]
  },
  {
   "cell_type": "code",
   "execution_count": null,
   "metadata": {},
   "outputs": [],
   "source": [
    "torch.save(results, \"airplane_5k_eval.pth\")"
   ]
  },
  {
   "cell_type": "code",
   "execution_count": null,
   "metadata": {},
   "outputs": [],
   "source": [
    "airplane = {\n",
    "    \"lgan_mmd-CD\": 0.06689093261957169,\n",
    "    \"lgan_cov-CD\": 0.3400000035762787,\n",
    "    \"lgan_mmd_smp-CD\": 0.020403025671839714,\n",
    "    \"lgan_mmd-EMD\": 0.5590656995773315,\n",
    "    \"lgan_cov-EMD\": 0.3725000023841858,\n",
    "    \"lgan_mmd_smp-EMD\": 0.29166239500045776,\n",
    "    \"1-NN-CD-acc_t\": 0.6175000071525574,\n",
    "    \"1-NN-CD-acc_f\": 0.8924999833106995,\n",
    "    \"1-NN-CD-acc\": 0.7549999952316284,\n",
    "    \"1-NN-EMD-acc_t\": 0.5774999856948853,\n",
    "    \"1-NN-EMD-acc_f\": 0.7925000190734863,\n",
    "    \"1-NN-EMD-acc\": 0.6850000023841858,\n",
    "}\n",
    "# 1-NNA-CD: 75.49%\n",
    "# 1-NNA-EMD: 68.5%"
   ]
  },
  {
   "cell_type": "code",
   "execution_count": 11,
   "metadata": {},
   "outputs": [],
   "source": [
    "shapenet_input_arr = []\n",
    "pvd_output_arr = []\n",
    "\n",
    "for batch_shapenet, batch_pvd in zip(shapenet_dataloader_chair, pvd_dataloader_chair):\n",
    "    shapenet_input = batch_shapenet[\"test_points\"].to(\"cuda\")\n",
    "    pvd_output = batch_pvd[\"test_points\"].to(\"cuda\")\n",
    "\n",
    "    shapenet_input_arr.append(shapenet_input)\n",
    "    pvd_output_arr.append(pvd_output)"
   ]
  },
  {
   "cell_type": "code",
   "execution_count": 12,
   "metadata": {},
   "outputs": [
    {
     "data": {
      "text/plain": [
       "(torch.Size([400, 2048, 3]), torch.Size([400, 2048, 3]))"
      ]
     },
     "execution_count": 12,
     "metadata": {},
     "output_type": "execute_result"
    }
   ],
   "source": [
    "input_chair_pcs = torch.stack(shapenet_input_arr).view(400, 2048, 3)\n",
    "output_chair_pcs = torch.stack(pvd_output_arr).view(400, 2048, 3)\n",
    "input_chair_pcs.shape, output_chair_pcs.shape"
   ]
  },
  {
   "cell_type": "code",
   "execution_count": 13,
   "metadata": {},
   "outputs": [
    {
     "name": "stderr",
     "output_type": "stream",
     "text": [
      "100%|██████████| 400/400 [07:44<00:00,  1.17s/it]\n",
      "100%|██████████| 400/400 [07:44<00:00,  1.17s/it]\n",
      "100%|██████████| 400/400 [07:43<00:00,  1.08s/it]"
     ]
    },
    {
     "name": "stdout",
     "output_type": "stream",
     "text": [
      "{'lgan_mmd-CD': 0.09327861666679382, 'lgan_cov-CD': 0.5174999833106995, 'lgan_mmd_smp-CD': 0.10668836534023285, 'lgan_mmd-EMD': 0.5605520009994507, 'lgan_cov-EMD': 0.5400000214576721, 'lgan_mmd_smp-EMD': 0.6099603176116943, '1-NN-CD-acc_t': 0.6200000047683716, '1-NN-CD-acc_f': 0.5475000143051147, '1-NN-CD-acc': 0.5837500095367432, '1-NN-EMD-acc_t': 0.5525000095367432, '1-NN-EMD-acc_f': 0.5674999952316284, '1-NN-EMD-acc': 0.5600000023841858}\n"
     ]
    },
    {
     "name": "stderr",
     "output_type": "stream",
     "text": [
      "\n"
     ]
    }
   ],
   "source": [
    "results = compute_all_metrics(input_chair_pcs, output_chair_pcs, 100)\n",
    "results = {k: (v.cpu().detach().item()\n",
    "                if not isinstance(v, float) else v) for k, v in results.items()}\n",
    "\n",
    "print(results)"
   ]
  },
  {
   "cell_type": "code",
   "execution_count": null,
   "metadata": {},
   "outputs": [],
   "source": [
    "chair = {\n",
    "    \"lgan_mmd-CD\": 0.09327861666679382,\n",
    "    \"lgan_cov-CD\": 0.5174999833106995,\n",
    "    \"lgan_mmd_smp-CD\": 0.10668836534023285,\n",
    "    \"lgan_mmd-EMD\": 0.5605520009994507,\n",
    "    \"lgan_cov-EMD\": 0.5400000214576721,\n",
    "    \"lgan_mmd_smp-EMD\": 0.6099603176116943,\n",
    "    \"1-NN-CD-acc_t\": 0.6200000047683716,\n",
    "    \"1-NN-CD-acc_f\": 0.5475000143051147,\n",
    "    \"1-NN-CD-acc\": 0.5837500095367432,\n",
    "    \"1-NN-EMD-acc_t\": 0.5525000095367432,\n",
    "    \"1-NN-EMD-acc_f\": 0.5674999952316284,\n",
    "    \"1-NN-EMD-acc\": 0.5600000023841858,\n",
    "}\n",
    "# 1-NNA-CD: 58.37%\n",
    "# 1-NNA-EMD: 56.0%"
   ]
  },
  {
   "cell_type": "markdown",
   "metadata": {},
   "source": [
    "# Evaluate PointTransformer"
   ]
  },
  {
   "cell_type": "code",
   "execution_count": 5,
   "metadata": {},
   "outputs": [
    {
     "data": {
      "text/plain": [
       "(torch.Size([400, 2048, 3]), torch.Size([400, 2048, 3]))"
      ]
     },
     "execution_count": 5,
     "metadata": {},
     "output_type": "execute_result"
    }
   ],
   "source": [
    "point_transfomer_input_pcs = torch.load(\"./eval-results/point-transformer/2024-01-30_23-46-44_global_refinment/input_pcs.pt\").to(\"cuda\")[:400, ...]\n",
    "point_transfomer_output_pcs = torch.load(\"./eval-results/point-transformer/2024-01-30_23-46-44_global_refinment/output_pcs.pt\").to(\"cuda\")\n",
    "\n",
    "point_transfomer_input_pcs.shape, point_transfomer_output_pcs.shape"
   ]
  },
  {
   "cell_type": "code",
   "execution_count": 6,
   "metadata": {},
   "outputs": [
    {
     "name": "stderr",
     "output_type": "stream",
     "text": [
      "100%|██████████| 400/400 [07:59<00:00,  1.20s/it]\n",
      "100%|██████████| 400/400 [08:04<00:00,  1.20s/it]\n",
      "100%|██████████| 400/400 [07:59<00:00,  1.19s/it]"
     ]
    },
    {
     "name": "stdout",
     "output_type": "stream",
     "text": [
      "{'lgan_mmd-CD': 0.07491616904735565, 'lgan_cov-CD': 0.30250000953674316, 'lgan_mmd_smp-CD': 0.026528310030698776, 'lgan_mmd-EMD': 0.6154521107673645, 'lgan_cov-EMD': 0.32249999046325684, 'lgan_mmd_smp-EMD': 0.3293913006782532, '1-NN-CD-acc_t': 0.8949999809265137, '1-NN-CD-acc_f': 0.9700000286102295, '1-NN-CD-acc': 0.9325000047683716, '1-NN-EMD-acc_t': 0.7149999737739563, '1-NN-EMD-acc_f': 0.8849999904632568, '1-NN-EMD-acc': 0.800000011920929}\n"
     ]
    },
    {
     "name": "stderr",
     "output_type": "stream",
     "text": [
      "\n"
     ]
    }
   ],
   "source": [
    "results = compute_all_metrics(point_transfomer_input_pcs, point_transfomer_output_pcs, 100)\n",
    "results = {k: (v.cpu().detach().item()\n",
    "                if not isinstance(v, float) else v) for k, v in results.items()}\n",
    "\n",
    "print(results)"
   ]
  },
  {
   "cell_type": "code",
   "execution_count": null,
   "metadata": {},
   "outputs": [],
   "source": [
    "result = {\n",
    "    \"lgan_mmd-CD\": 0.07491616904735565,\n",
    "    \"lgan_cov-CD\": 0.30250000953674316,\n",
    "    \"lgan_mmd_smp-CD\": 0.026528310030698776,\n",
    "    \"lgan_mmd-EMD\": 0.6154521107673645,\n",
    "    \"lgan_cov-EMD\": 0.32249999046325684,\n",
    "    \"lgan_mmd_smp-EMD\": 0.3293913006782532,\n",
    "    \"1-NN-CD-acc_t\": 0.8949999809265137,\n",
    "    \"1-NN-CD-acc_f\": 0.9700000286102295,\n",
    "    \"1-NN-CD-acc\": 0.9325000047683716,\n",
    "    \"1-NN-EMD-acc_t\": 0.7149999737739563,\n",
    "    \"1-NN-EMD-acc_f\": 0.8849999904632568,\n",
    "    \"1-NN-EMD-acc\": 0.800000,\n",
    "}\n",
    "\n",
    "# 1-NNA-CD 93.25%\n",
    "# 1-NNA-EMD 80%"
   ]
  },
  {
   "cell_type": "code",
   "execution_count": 3,
   "metadata": {},
   "outputs": [
    {
     "data": {
      "text/plain": [
       "(torch.Size([400, 2048, 3]), torch.Size([400, 2048, 3]))"
      ]
     },
     "execution_count": 3,
     "metadata": {},
     "output_type": "execute_result"
    }
   ],
   "source": [
    "point_transfomer_input_pcs = torch.load(\"./eval-results/point-transformer/2024-02-02_19-09-12_global_refinment/input_pcs.pt\").to(\"cuda\")[:400, ...]\n",
    "point_transfomer_output_pcs = torch.load(\"./eval-results/point-transformer/2024-02-02_19-09-12_global_refinment/output_pcs.pt\").to(\"cuda\")\n",
    "\n",
    "point_transfomer_input_pcs.shape, point_transfomer_output_pcs.shape"
   ]
  },
  {
   "cell_type": "code",
   "execution_count": 4,
   "metadata": {},
   "outputs": [
    {
     "name": "stderr",
     "output_type": "stream",
     "text": [
      "100%|██████████| 400/400 [07:53<00:00,  1.18s/it]\n",
      "100%|██████████| 400/400 [07:53<00:00,  1.18s/it]\n",
      "100%|██████████| 400/400 [07:53<00:00,  1.18s/it]"
     ]
    },
    {
     "name": "stdout",
     "output_type": "stream",
     "text": [
      "{'lgan_mmd-CD': 0.06674178689718246, 'lgan_cov-CD': 0.3425000011920929, 'lgan_mmd_smp-CD': 0.020022423937916756, 'lgan_mmd-EMD': 0.5565726161003113, 'lgan_cov-EMD': 0.3774999976158142, 'lgan_mmd_smp-EMD': 0.29521191120147705, '1-NN-CD-acc_t': 0.6850000023841858, '1-NN-CD-acc_f': 0.8575000166893005, '1-NN-CD-acc': 0.7712500095367432, '1-NN-EMD-acc_t': 0.6324999928474426, '1-NN-EMD-acc_f': 0.762499988079071, '1-NN-EMD-acc': 0.6974999904632568}\n"
     ]
    },
    {
     "name": "stderr",
     "output_type": "stream",
     "text": [
      "\n"
     ]
    }
   ],
   "source": [
    "results = compute_all_metrics(point_transfomer_input_pcs, point_transfomer_output_pcs, 100)\n",
    "results = {k: (v.cpu().detach().item()\n",
    "                if not isinstance(v, float) else v) for k, v in results.items()}\n",
    "\n",
    "print(results)"
   ]
  },
  {
   "cell_type": "code",
   "execution_count": 5,
   "metadata": {},
   "outputs": [],
   "source": [
    "torch.save({\"results\": results} , \"point_transformer_results.pth\")"
   ]
  },
  {
   "cell_type": "code",
   "execution_count": null,
   "metadata": {},
   "outputs": [],
   "source": [
    "result = {\n",
    "    \"lgan_mmd-CD\": 0.06674178689718246,\n",
    "    \"lgan_cov-CD\": 0.3425000011920929,\n",
    "    \"lgan_mmd_smp-CD\": 0.020022423937916756,\n",
    "    \"lgan_mmd-EMD\": 0.5565726161003113,\n",
    "    \"lgan_cov-EMD\": 0.3774999976158142,\n",
    "    \"lgan_mmd_smp-EMD\": 0.29521191120147705,\n",
    "    \"1-NN-CD-acc_t\": 0.6850000023841858,\n",
    "    \"1-NN-CD-acc_f\": 0.8575000166893005,\n",
    "    \"1-NN-CD-acc\": 0.7712500095367432,\n",
    "    \"1-NN-EMD-acc_t\": 0.6324999928474426,\n",
    "    \"1-NN-EMD-acc_f\": 0.762499988079071,\n",
    "    \"1-NN-EMD-acc\": 0.6974999904632568,\n",
    "}\n",
    "# 1-NNA-CD 77.12%\n",
    "# 1-NNA-EMD 69.74%"
   ]
  },
  {
   "cell_type": "code",
   "execution_count": 11,
   "metadata": {},
   "outputs": [],
   "source": [
    "for input in pvd_dataloader_airplane:\n",
    "    point_clouds = input[\"train_points\"]\n",
    "    break"
   ]
  },
  {
   "cell_type": "code",
   "execution_count": 14,
   "metadata": {},
   "outputs": [
    {
     "data": {
      "image/png": "[encoded data removed]",
      "text/plain": [
       "<Figure size 640x480 with 1 Axes>"
      ]
     },
     "metadata": {},
     "output_type": "display_data"
    }
   ],
   "source": [
    "from visuals.visuals_util import visualize_pointcloud\n",
    "fig = visualize_pointcloud(point_clouds[0, ...])"
   ]
  },
  {
   "cell_type": "code",
   "execution_count": 1,
   "metadata": {},
   "outputs": [],
   "source": [
    "import torch\n",
    "\n",
    "noise = torch.normal(0, 1, size=(2048, 3))"
   ]
  },
  {
   "cell_type": "code",
   "execution_count": 18,
   "metadata": {},
   "outputs": [
    {
     "name": "stdout",
     "output_type": "stream",
     "text": [
      "Center: [0.08699501 0.22332683 1.1807005 ], Scale: 7.039486885070801\n"
     ]
    }
   ],
   "source": [
    "from visuals.mitsuba_vis import render_mitsuba\n",
    "\n",
    "input_img = render_mitsuba(point_clouds[0, ...].cpu().numpy(), \"./coarse-shape.xml\", fov=15, radius=0.01)"
   ]
  },
  {
   "cell_type": "code",
   "execution_count": 19,
   "metadata": {},
   "outputs": [
    {
     "name": "stderr",
     "output_type": "stream",
     "text": [
      "Clipping input data to the valid range for imshow with RGB data ([0..1] for floats or [0..255] for integers).\n"
     ]
    },
    {
     "data": {
      "image/png": "[encoded data removed]",
      "text/plain": [
       "<Figure size 640x480 with 1 Axes>"
      ]
     },
     "metadata": {},
     "output_type": "display_data"
    }
   ],
   "source": [
    "import matplotlib.pyplot as plt\n",
    "\n",
    "plt.axis(\"off\")\n",
    "plt.imshow(input_img ** (1.0 / 2.2)) # approximate sRGB tonemapping\n",
    "plt.savefig(\"Noise.png\", bbox_inches='tight', pad_inches=0, dpi=400)"
   ]
  }
 ],
 "metadata": {
  "kernelspec": {
   "display_name": "coarse-to-fine-shapes-aa7c6m2--py3.8",
   "language": "python",
   "name": "python3"
  },
  "language_info": {
   "codemirror_mode": {
    "name": "ipython",
    "version": 3
   },
   "file_extension": ".py",
   "mimetype": "text/x-python",
   "name": "python",
   "nbconvert_exporter": "python",
   "pygments_lexer": "ipython3",
   "version": "3.8.10"
  }
 },
 "nbformat": 4,
 "nbformat_minor": 2
}
