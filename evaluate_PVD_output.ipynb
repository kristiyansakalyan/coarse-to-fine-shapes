{
 "cells": [
  {
   "cell_type": "code",
   "execution_count": 2,
   "metadata": {},
   "outputs": [
    {
     "name": "stdout",
     "output_type": "stream",
     "text": [
      "Jitting Chamfer 3D\n",
      "Loaded JIT 3D CUDA chamfer distance\n"
     ]
    }
   ],
   "source": [
    "import torch\n",
    "from datasets.shapenet_data_pc import ShapeNet15kPointClouds\n",
    "from datasets.pvd_data_pc import ShapeNet15kPointCloudsPVD\n",
    "from metrics.evaluation_metrics import compute_all_metrics"
   ]
  },
  {
   "cell_type": "code",
   "execution_count": 3,
   "metadata": {},
   "outputs": [
    {
     "name": "stdout",
     "output_type": "stream",
     "text": [
      "Total number of data:662\n",
      "Min number of points: (train)2048 (test)2048\n",
      "Total number of data:405\n",
      "Min number of points: (train)2048 (test)2048\n",
      "Total number of data:400\n",
      "Min number of points: (train)2048 (test)2048\n",
      "Total number of data:400\n",
      "Min number of points: (train)2048 (test)2048\n"
     ]
    }
   ],
   "source": [
    "chair_dataset = ShapeNet15kPointClouds(\n",
    "    root_dir=\"./ShapeNetCore.v2.PC15k\",\n",
    "    categories=[\"chair\"],\n",
    "    split=\"val\",\n",
    "    tr_sample_size=2048,\n",
    "    te_sample_size=2048,\n",
    "    scale=1.0,\n",
    "    normalize_per_shape=False,\n",
    "    normalize_std_per_axis=False,\n",
    "    random_subsample=True,\n",
    ")\n",
    "\n",
    "airplane_dataset = ShapeNet15kPointClouds(\n",
    "    root_dir=\"./ShapeNetCore.v2.PC15k\",\n",
    "    categories=[\"airplane\"],\n",
    "    split=\"val\",\n",
    "    tr_sample_size=2048,\n",
    "    te_sample_size=2048,\n",
    "    scale=1.0,\n",
    "    normalize_per_shape=False,\n",
    "    normalize_std_per_axis=False,\n",
    "    random_subsample=True,\n",
    ")\n",
    "\n",
    "pvd_airplane_dataset = ShapeNet15kPointCloudsPVD(\n",
    "    root_dir=\"./custom-dataset\",\n",
    "    categories=[\"airplane\"],\n",
    "    split=\"train\",\n",
    "    tr_sample_size=2048,\n",
    "    te_sample_size=2048,\n",
    "    scale=1.0,\n",
    "    normalize_per_shape=False,\n",
    "    normalize_std_per_axis=False,\n",
    "    random_subsample=True,\n",
    ")\n",
    "\n",
    "pvd_chair_dataset = ShapeNet15kPointCloudsPVD(\n",
    "    root_dir=\"./custom-dataset\",\n",
    "    categories=[\"chair\"],\n",
    "    split=\"train\",\n",
    "    tr_sample_size=2048,\n",
    "    te_sample_size=2048,\n",
    "    scale=1.0,\n",
    "    normalize_per_shape=False,\n",
    "    normalize_std_per_axis=False,\n",
    "    random_subsample=True,\n",
    ")"
   ]
  },
  {
   "cell_type": "code",
   "execution_count": 4,
   "metadata": {},
   "outputs": [],
   "source": [
    "BATCH_SIZE = 50\n",
    "\n",
    "shapenet_dataloader_airplane = torch.utils.data.DataLoader(\n",
    "    airplane_dataset,\n",
    "    batch_size=BATCH_SIZE,\n",
    "    sampler=None,\n",
    "    shuffle=True is None,\n",
    "    num_workers=1,\n",
    "    drop_last=True,\n",
    ")\n",
    "\n",
    "shapenet_dataloader_chair = torch.utils.data.DataLoader(\n",
    "    chair_dataset,\n",
    "    batch_size=BATCH_SIZE,\n",
    "    sampler=None,\n",
    "    shuffle=True is None,\n",
    "    num_workers=1,\n",
    "    drop_last=True,\n",
    ")\n",
    "\n",
    "pvd_dataloader_airplane = torch.utils.data.DataLoader(\n",
    "    pvd_airplane_dataset,\n",
    "    batch_size=BATCH_SIZE,\n",
    "    sampler=None,\n",
    "    shuffle=True is None,\n",
    "    num_workers=1,\n",
    "    drop_last=True,\n",
    ")\n",
    "\n",
    "pvd_dataloader_chair = torch.utils.data.DataLoader(\n",
    "    pvd_chair_dataset,\n",
    "    batch_size=BATCH_SIZE,\n",
    "    sampler=None,\n",
    "    shuffle=True is None,\n",
    "    num_workers=1,\n",
    "    drop_last=True,\n",
    ")"
   ]
  },
  {
   "cell_type": "code",
   "execution_count": 5,
   "metadata": {},
   "outputs": [],
   "source": [
    "shapenet_input_arr = []\n",
    "pvd_output_arr = []\n",
    "\n",
    "for batch_shapenet, batch_pvd in zip(shapenet_dataloader_airplane, pvd_dataloader_airplane):\n",
    "    shapenet_input = batch_shapenet[\"test_points\"].to(\"cuda\")\n",
    "    pvd_output = batch_pvd[\"test_points\"].to(\"cuda\")\n",
    "\n",
    "    shapenet_input_arr.append(shapenet_input)\n",
    "    pvd_output_arr.append(pvd_output)"
   ]
  },
  {
   "cell_type": "code",
   "execution_count": 6,
   "metadata": {},
   "outputs": [
    {
     "data": {
      "text/plain": [
       "(torch.Size([400, 2048, 3]), torch.Size([400, 2048, 3]))"
      ]
     },
     "execution_count": 6,
     "metadata": {},
     "output_type": "execute_result"
    }
   ],
   "source": [
    "input_airplane_pcs = torch.stack(shapenet_input_arr).view(400, 2048, 3)\n",
    "output_airplane_pcs = torch.stack(pvd_output_arr).view(400, 2048, 3)\n",
    "input_airplane_pcs.shape, output_airplane_pcs.shape"
   ]
  },
  {
   "cell_type": "code",
   "execution_count": 7,
   "metadata": {},
   "outputs": [
    {
     "name": "stderr",
     "output_type": "stream",
     "text": [
      "100%|██████████| 400/400 [03:43<00:00,  1.79it/s]\n",
      "100%|██████████| 400/400 [06:51<00:00,  1.17s/it]\n",
      "100%|██████████| 400/400 [07:44<00:00,  1.11s/it]"
     ]
    },
    {
     "name": "stdout",
     "output_type": "stream",
     "text": [
      "{'lgan_mmd-CD': 0.06689093261957169, 'lgan_cov-CD': 0.3400000035762787, 'lgan_mmd_smp-CD': 0.020403025671839714, 'lgan_mmd-EMD': 0.5590656995773315, 'lgan_cov-EMD': 0.3725000023841858, 'lgan_mmd_smp-EMD': 0.29166239500045776, '1-NN-CD-acc_t': 0.6175000071525574, '1-NN-CD-acc_f': 0.8924999833106995, '1-NN-CD-acc': 0.7549999952316284, '1-NN-EMD-acc_t': 0.5774999856948853, '1-NN-EMD-acc_f': 0.7925000190734863, '1-NN-EMD-acc': 0.6850000023841858}\n"
     ]
    },
    {
     "name": "stderr",
     "output_type": "stream",
     "text": [
      "\n"
     ]
    }
   ],
   "source": [
    "results = compute_all_metrics(input_airplane_pcs, output_airplane_pcs, 100)\n",
    "results = {k: (v.cpu().detach().item()\n",
    "                if not isinstance(v, float) else v) for k, v in results.items()}\n",
    "\n",
    "print(results)"
   ]
  },
  {
   "cell_type": "code",
   "execution_count": null,
   "metadata": {},
   "outputs": [],
   "source": [
    "airplane = {\n",
    "    \"lgan_mmd-CD\": 0.06689093261957169,\n",
    "    \"lgan_cov-CD\": 0.3400000035762787,\n",
    "    \"lgan_mmd_smp-CD\": 0.020403025671839714,\n",
    "    \"lgan_mmd-EMD\": 0.5590656995773315,\n",
    "    \"lgan_cov-EMD\": 0.3725000023841858,\n",
    "    \"lgan_mmd_smp-EMD\": 0.29166239500045776,\n",
    "    \"1-NN-CD-acc_t\": 0.6175000071525574,\n",
    "    \"1-NN-CD-acc_f\": 0.8924999833106995,\n",
    "    \"1-NN-CD-acc\": 0.7549999952316284,\n",
    "    \"1-NN-EMD-acc_t\": 0.5774999856948853,\n",
    "    \"1-NN-EMD-acc_f\": 0.7925000190734863,\n",
    "    \"1-NN-EMD-acc\": 0.6850000023841858,\n",
    "}\n",
    "\n",
    "# 1-NNA-CD: 75.49%\n",
    "# 1-NNA-EMD: 68.5%"
   ]
  },
  {
   "cell_type": "code",
   "execution_count": 11,
   "metadata": {},
   "outputs": [],
   "source": [
    "shapenet_input_arr = []\n",
    "pvd_output_arr = []\n",
    "\n",
    "for batch_shapenet, batch_pvd in zip(shapenet_dataloader_chair, pvd_dataloader_chair):\n",
    "    shapenet_input = batch_shapenet[\"test_points\"].to(\"cuda\")\n",
    "    pvd_output = batch_pvd[\"test_points\"].to(\"cuda\")\n",
    "\n",
    "    shapenet_input_arr.append(shapenet_input)\n",
    "    pvd_output_arr.append(pvd_output)"
   ]
  },
  {
   "cell_type": "code",
   "execution_count": 12,
   "metadata": {},
   "outputs": [
    {
     "data": {
      "text/plain": [
       "(torch.Size([400, 2048, 3]), torch.Size([400, 2048, 3]))"
      ]
     },
     "execution_count": 12,
     "metadata": {},
     "output_type": "execute_result"
    }
   ],
   "source": [
    "input_chair_pcs = torch.stack(shapenet_input_arr).view(400, 2048, 3)\n",
    "output_chair_pcs = torch.stack(pvd_output_arr).view(400, 2048, 3)\n",
    "input_chair_pcs.shape, output_chair_pcs.shape"
   ]
  },
  {
   "cell_type": "code",
   "execution_count": 13,
   "metadata": {},
   "outputs": [
    {
     "name": "stderr",
     "output_type": "stream",
     "text": [
      "100%|██████████| 400/400 [07:44<00:00,  1.17s/it]\n",
      "100%|██████████| 400/400 [07:44<00:00,  1.17s/it]\n",
      "100%|██████████| 400/400 [07:43<00:00,  1.08s/it]"
     ]
    },
    {
     "name": "stdout",
     "output_type": "stream",
     "text": [
      "{'lgan_mmd-CD': 0.09327861666679382, 'lgan_cov-CD': 0.5174999833106995, 'lgan_mmd_smp-CD': 0.10668836534023285, 'lgan_mmd-EMD': 0.5605520009994507, 'lgan_cov-EMD': 0.5400000214576721, 'lgan_mmd_smp-EMD': 0.6099603176116943, '1-NN-CD-acc_t': 0.6200000047683716, '1-NN-CD-acc_f': 0.5475000143051147, '1-NN-CD-acc': 0.5837500095367432, '1-NN-EMD-acc_t': 0.5525000095367432, '1-NN-EMD-acc_f': 0.5674999952316284, '1-NN-EMD-acc': 0.5600000023841858}\n"
     ]
    },
    {
     "name": "stderr",
     "output_type": "stream",
     "text": [
      "\n"
     ]
    }
   ],
   "source": [
    "results = compute_all_metrics(input_chair_pcs, output_chair_pcs, 100)\n",
    "results = {k: (v.cpu().detach().item()\n",
    "                if not isinstance(v, float) else v) for k, v in results.items()}\n",
    "\n",
    "print(results)"
   ]
  },
  {
   "cell_type": "code",
   "execution_count": null,
   "metadata": {},
   "outputs": [],
   "source": [
    "chair = {\n",
    "    \"lgan_mmd-CD\": 0.09327861666679382,\n",
    "    \"lgan_cov-CD\": 0.5174999833106995,\n",
    "    \"lgan_mmd_smp-CD\": 0.10668836534023285,\n",
    "    \"lgan_mmd-EMD\": 0.5605520009994507,\n",
    "    \"lgan_cov-EMD\": 0.5400000214576721,\n",
    "    \"lgan_mmd_smp-EMD\": 0.6099603176116943,\n",
    "    \"1-NN-CD-acc_t\": 0.6200000047683716,\n",
    "    \"1-NN-CD-acc_f\": 0.5475000143051147,\n",
    "    \"1-NN-CD-acc\": 0.5837500095367432,\n",
    "    \"1-NN-EMD-acc_t\": 0.5525000095367432,\n",
    "    \"1-NN-EMD-acc_f\": 0.5674999952316284,\n",
    "    \"1-NN-EMD-acc\": 0.5600000023841858,\n",
    "}\n",
    "# 1-NNA-CD: 58.37%\n",
    "# 1-NNA-EMD: 56.0%"
   ]
  }
 ],
 "metadata": {
  "kernelspec": {
   "display_name": "coarse-to-fine-shapes-aa7c6m2--py3.8",
   "language": "python",
   "name": "python3"
  },
  "language_info": {
   "codemirror_mode": {
    "name": "ipython",
    "version": 3
   },
   "file_extension": ".py",
   "mimetype": "text/x-python",
   "name": "python",
   "nbconvert_exporter": "python",
   "pygments_lexer": "ipython3",
   "version": "3.8.10"
  }
 },
 "nbformat": 4,
 "nbformat_minor": 2
}
