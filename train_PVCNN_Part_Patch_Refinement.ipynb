{
 "cells": [
  {
   "cell_type": "code",
   "execution_count": 2,
   "metadata": {},
   "outputs": [],
   "source": [
    "from datasets.shapenet_part import PartNormalDataset\n",
    "\n",
    "import torch\n",
    "import torch.nn as nn\n",
    "import torch.optim as optim\n",
    "from torch.utils.tensorboard import SummaryWriter\n",
    "\n",
    "from datetime import datetime\n",
    "import matplotlib.pyplot as plt\n",
    "import numpy as np\n",
    "\n",
    "from datasets.shapenet_data_pc import ShapeNet15kPointClouds\n",
    "\n",
    "from metrics.ChamferDistancePytorch.chamfer_python import distChamfer\n",
    "\n",
    "from visuals.visuals_util import rotate_point_cloud_x, rotate_point_cloud_z, rotate_point_cloud_y, visualize_pointcloud_eval, save_fig, visualize_pointcloud_eval_three, visualize_pointcloud\n",
    "from models_adl4cv.pvcnn import PVCNNPartSeg, PVCNN"
   ]
  },
  {
   "cell_type": "code",
   "execution_count": null,
   "metadata": {},
   "outputs": [],
   "source": [
    "tr_dataset = ShapeNet15kPointClouds(root_dir=\"./ShapeNetCore.v2.PC15k\",\n",
    "    categories=[\"airplane\"], split='train',\n",
    "    tr_sample_size=2048,\n",
    "    te_sample_size=2048,\n",
    "    scale=1.,\n",
    "    normalize_per_shape=False,\n",
    "    normalize_std_per_axis=False,\n",
    "    random_subsample=True)\n",
    "\n",
    "val_dataset = ShapeNet15kPointClouds(root_dir=\"./ShapeNetCore.v2.PC15k\",\n",
    "    categories=[\"airplane\"], split='val',\n",
    "    tr_sample_size=2048,\n",
    "    te_sample_size=2048,\n",
    "    scale=1.,\n",
    "    normalize_per_shape=False,\n",
    "    normalize_std_per_axis=False,\n",
    "    random_subsample=True)\n",
    "\n",
    "test_dataset = ShapeNet15kPointClouds(root_dir=\"./ShapeNetCore.v2.PC15k\",\n",
    "    categories=[\"airplane\"], split='test',\n",
    "    tr_sample_size=2048,\n",
    "    te_sample_size=2048,\n",
    "    scale=1.,\n",
    "    normalize_per_shape=False,\n",
    "    normalize_std_per_axis=False,\n",
    "    random_subsample=True)"
   ]
  },
  {
   "cell_type": "code",
   "execution_count": null,
   "metadata": {},
   "outputs": [],
   "source": [
    "len(tr_dataset), len(val_dataset), len(test_dataset)"
   ]
  },
  {
   "cell_type": "code",
   "execution_count": null,
   "metadata": {},
   "outputs": [],
   "source": [
    "train_dataloader = torch.utils.data.DataLoader(tr_dataset, \n",
    "                                               batch_size=20, \n",
    "                                               sampler=None, \n",
    "                                               shuffle=True is None, \n",
    "                                               num_workers=1, \n",
    "                                               drop_last=True)\n",
    "\n",
    "val_dataloader = torch.utils.data.DataLoader(val_dataset, \n",
    "                                               batch_size=20, \n",
    "                                               sampler=None, \n",
    "                                               shuffle=True is None, \n",
    "                                               num_workers=1, \n",
    "                                               drop_last=True)\n",
    "\n",
    "test_dataloader = torch.utils.data.DataLoader(test_dataset, \n",
    "                                               batch_size=20, \n",
    "                                               sampler=None, \n",
    "                                               shuffle=True is None, \n",
    "                                               num_workers=1, \n",
    "                                               drop_last=True)"
   ]
  },
  {
   "cell_type": "code",
   "execution_count": null,
   "metadata": {},
   "outputs": [],
   "source": [
    "def add_random_noise(point_cloud, mean=0, std=0.025):\n",
    "    noise = torch.normal(mean, std, size=point_cloud.size()).to(\"cuda\")\n",
    "    point_cloud_noise = point_cloud + noise\n",
    "    return point_cloud_noise"
   ]
  },
  {
   "cell_type": "code",
   "execution_count": null,
   "metadata": {},
   "outputs": [],
   "source": [
    "def chamfer_distance(a, b):\n",
    "    min_dist_a_to_b, min_dist_b_to_a, _, _ = distChamfer(a, b)\n",
    "    return (min_dist_a_to_b.mean() + min_dist_b_to_a.mean()) / 2"
   ]
  },
  {
   "cell_type": "code",
   "execution_count": null,
   "metadata": {},
   "outputs": [],
   "source": [
    "model = PVCNN(num_classes=3, num_shapes=3, extra_feature_channels=0).to(\"cuda\")"
   ]
  },
  {
   "cell_type": "code",
   "execution_count": null,
   "metadata": {},
   "outputs": [],
   "source": [
    "part_model = PVCNNPartSeg(num_classes=4, num_shapes=3, extra_feature_channels=0).to(\"cuda\")\n",
    "part_model.load_state_dict(torch.load(\"output-models/pvcnn-part-segmentation-noise/PVCNN-Part-Segmentation-Noise-e69.pth\"))"
   ]
  },
  {
   "cell_type": "code",
   "execution_count": null,
   "metadata": {},
   "outputs": [],
   "source": [
    "# TensorBoard Logging with model's name and current date\n",
    "current_time = datetime.now().strftime('%b%d_%H-%M-%S')\n",
    "model_name = 'PVCNN-Refinement-Part'\n",
    "log_dir = f\"runs/{model_name}_{current_time}\"\n",
    "writer = SummaryWriter(log_dir=log_dir)\n",
    "\n",
    "# Optimization\n",
    "optimizer = optim.Adam(model.parameters(), lr=1e-4, weight_decay=1e-5)\n",
    "lr_scheduler = optim.lr_scheduler.ExponentialLR(optimizer, 0.998)\n",
    "\n",
    "# Losses\n",
    "training_losses = []\n",
    "val_losses = []\n",
    "\n",
    "# Early Stopping (patience)\n",
    "best_val_loss = np.inf\n",
    "patience = 10\n",
    "patience_counter = 0"
   ]
  },
  {
   "cell_type": "code",
   "execution_count": null,
   "metadata": {},
   "outputs": [],
   "source": [
    "# Time to train\n",
    "\n",
    "for epoch in range(100):\n",
    "    total_train_loss = 0\n",
    "    total_val_loss = 0\n",
    "\n",
    "    # Train\n",
    "    model.train()\n",
    "    for batch in train_dataloader:\n",
    "        input = batch[\"train_points\"].to(\"cuda\")\n",
    "\n",
    "        # Random patch\n",
    "        patched_input = get_nearest_neighbors_batch_pytorch3d(input, 512).transpose(1,2)\n",
    "\n",
    "        # Add noise to the input\n",
    "        noised_patched_input = add_random_noise(patched_input)\n",
    "        \n",
    "        optimizer.zero_grad()\n",
    "        output = model(noised_patched_input).to(\"cuda\")\n",
    "        \n",
    "        loss = chamfer_distance(patched_input.transpose(1,2), output.transpose(1,2))\n",
    "        loss.backward()\n",
    "        optimizer.step()\n",
    "\n",
    "        total_train_loss += loss.item()\n",
    "\n",
    "    epoch_train_loss = total_train_loss / len(train_dataloader)\n",
    "    training_losses.append(epoch_train_loss)\n",
    "\n",
    "\n",
    "    # Validate\n",
    "    model.eval()\n",
    "    with torch.no_grad():\n",
    "        for batch in val_dataloader:\n",
    "            input = batch[\"train_points\"].to(\"cuda\")\n",
    "\n",
    "            # Random patch\n",
    "            patched_input = get_nearest_neighbors_batch_pytorch3d(input, 512).transpose(1,2)\n",
    "\n",
    "            # Add noise to the input\n",
    "            noised_patched_input = add_random_noise(patched_input)\n",
    "            \n",
    "            output = model(noised_patched_input).to(\"cuda\")\n",
    "            val_loss = chamfer_distance(patched_input.transpose(1,2), output.transpose(1,2))\n",
    "\n",
    "            total_val_loss += val_loss.item()\n",
    "\n",
    "    epoch_val_loss = total_val_loss / len(val_dataloader)\n",
    "    val_losses.append(epoch_val_loss)\n",
    "\n",
    "    writer.add_scalar('Loss/train', epoch_train_loss, epoch)\n",
    "    writer.add_scalar('Loss/val', epoch_val_loss, epoch)\n",
    "\n",
    "    print(f\"Epoch {epoch+1},  Training Loss: {epoch_train_loss:.4f}, Validation Loss: {epoch_val_loss:.4f}\")\n",
    "\n",
    "    # Check for improvement\n",
    "    if epoch_val_loss < best_val_loss:\n",
    "        best_val_loss = epoch_val_loss\n",
    "        patience_counter = 0  # reset the patience counter\n",
    "    else:\n",
    "        patience_counter += 1\n",
    "        print(f\"No improvement in validation loss for {patience_counter} epochs.\")\n",
    "\n",
    "    # Break the loop if patience exceeded\n",
    "    if patience_counter >= patience:\n",
    "        print(\"Stopping early due to no improvement in validation loss.\")\n",
    "        break\n",
    "\n",
    "    # Save the model\n",
    "    model_save_path = f\"output-models/pvcnn-refinement-part/PVCNN-Baseline-Refinement-Part-e{epoch+1}.pth\"\n",
    "    torch.save(model.state_dict(), model_save_path)\n",
    "\n",
    "\n",
    "writer.close()"
   ]
  },
  {
   "cell_type": "code",
   "execution_count": 14,
   "metadata": {},
   "outputs": [
    {
     "data": {
      "image/png": "[encoded data removed]",
      "text/plain": [
       "<Figure size 1000x500 with 1 Axes>"
      ]
     },
     "metadata": {},
     "output_type": "display_data"
    }
   ],
   "source": [
    "plt.figure(figsize=(10, 5))\n",
    "plt.plot(training_losses, label='Training Loss')\n",
    "plt.plot(val_losses, label='Validation Loss')\n",
    "plt.title('Training & Validation Loss')\n",
    "plt.xlabel('Epoch')\n",
    "plt.ylabel('Cross Entropy Loss')\n",
    "plt.legend()\n",
    "plt.show()"
   ]
  }
 ],
 "metadata": {
  "kernelspec": {
   "display_name": "coarse-to-fine-shapes-aa7c6m2--py3.8",
   "language": "python",
   "name": "python3"
  },
  "language_info": {
   "codemirror_mode": {
    "name": "ipython",
    "version": 3
   },
   "file_extension": ".py",
   "mimetype": "text/x-python",
   "name": "python",
   "nbconvert_exporter": "python",
   "pygments_lexer": "ipython3",
   "version": "3.8.10"
  }
 },
 "nbformat": 4,
 "nbformat_minor": 2
}
