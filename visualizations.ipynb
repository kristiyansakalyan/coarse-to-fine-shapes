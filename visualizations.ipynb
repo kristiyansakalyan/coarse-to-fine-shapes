{
 "cells": [
  {
   "cell_type": "code",
   "execution_count": 8,
   "metadata": {},
   "outputs": [],
   "source": [
    "import torch\n",
    "import plotly.graph_objects as go"
   ]
  },
  {
   "cell_type": "code",
   "execution_count": 34,
   "metadata": {},
   "outputs": [],
   "source": [
    "def write_html(file_name, tensor):\n",
    "    last_frame = len(tensor) - 1\n",
    "    # Create a 3D scatter plot with plotly\n",
    "    fig = go.Figure(data=[go.Scatter3d(x=tensor[last_frame,:, 0], y=tensor[last_frame, :, 1], z=tensor[last_frame, :, 2], mode='markers', marker=dict(size=5))])\n",
    "\n",
    "    # Set layout options\n",
    "    fig.update_layout(scene=dict(aspectmode=\"cube\", xaxis=dict(title='X'), yaxis=dict(title='Y'), zaxis=dict(title='Z')))\n",
    "    fig.update_layout(title='3D Point Cloud', autosize=False)\n",
    "    fig.update_layout(width=300, height=300) \n",
    "\n",
    "    # Save as an interactive HTML file\n",
    "    fig.write_html(file_name)"
   ]
  },
  {
   "cell_type": "code",
   "execution_count": 36,
   "metadata": {},
   "outputs": [],
   "source": [
    "airplane_tensor = torch.load(\"airplane_pc_data.pth\")\n",
    "airplane_tensor = airplane_tensor.cpu().numpy()\n",
    "    \n",
    "write_html(\"airplane_3d_pc.html\", airplane_tensor)"
   ]
  },
  {
   "cell_type": "code",
   "execution_count": 35,
   "metadata": {},
   "outputs": [],
   "source": [
    "chair_tensor = torch.load(\"chair_pc_data.pth\")\n",
    "chair_tensor = chair_tensor.cpu().numpy()\n",
    "\n",
    "write_html(\"chair_3d_pc.html\", chair_tensor)"
   ]
  },
  {
   "cell_type": "code",
   "execution_count": 37,
   "metadata": {},
   "outputs": [],
   "source": [
    "car_tensor = torch.load(\"car_pc_data.pth\")\n",
    "car_tensor = car_tensor.cpu().numpy()\n",
    "\n",
    "write_html(\"car_3d_pc.html\", car_tensor)"
   ]
  }
 ],
 "metadata": {
  "kernelspec": {
   "display_name": "ADL4CV-py38",
   "language": "python",
   "name": "python3"
  },
  "language_info": {
   "codemirror_mode": {
    "name": "ipython",
    "version": 3
   },
   "file_extension": ".py",
   "mimetype": "text/x-python",
   "name": "python",
   "nbconvert_exporter": "python",
   "pygments_lexer": "ipython3",
   "version": "3.8.18"
  }
 },
 "nbformat": 4,
 "nbformat_minor": 2
}
