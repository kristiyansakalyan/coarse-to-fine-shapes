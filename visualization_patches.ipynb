{
 "cells": [
  {
   "cell_type": "code",
   "execution_count": null,
   "metadata": {},
   "outputs": [],
   "source": [
    "import torch\n",
    "import numpy as np\n",
    "from utils import visualize\n",
    "import matplotlib\n",
    "import matplotlib.pyplot as plt\n",
    "import imageio\n",
    "from visuals_util import rotate_point_cloud_x, rotate_point_cloud_y, rotate_point_cloud_y, load_pvd_output, visualize_pointcloud, get_axis_ranges\n",
    "from tqdm import tqdm\n",
    "%matplotlib widget"
   ]
  },
  {
   "cell_type": "code",
   "execution_count": null,
   "metadata": {},
   "outputs": [],
   "source": [
    "import numpy as np\n",
    "\n",
    "def ball_query(point_cloud, centroid, radius):\n",
    "    \"\"\"\n",
    "    Perform a ball query on a point cloud.\n",
    "\n",
    "    Args:\n",
    "    - point_cloud (np.ndarray): The point cloud, assumed to be an Nx3 array.\n",
    "    - centroid (np.ndarray): The centroid point, a 1x3 array.\n",
    "    - radius (float): The radius of the sphere within which to search for points.\n",
    "\n",
    "    Returns:\n",
    "    - np.ndarray: An array of points within the specified radius of the centroid.\n",
    "    \"\"\"\n",
    "    # Calculate squared distances from the centroid to each point\n",
    "    distances_squared = np.sum((point_cloud - centroid) ** 2, axis=1)\n",
    "\n",
    "    # Find points where the squared distance is less than the squared radius\n",
    "    within_radius = distances_squared < radius ** 2\n",
    "\n",
    "    # Return points within the radius\n",
    "    return point_cloud[within_radius]\n"
   ]
  },
  {
   "cell_type": "code",
   "execution_count": null,
   "metadata": {},
   "outputs": [],
   "source": [
    "chair = load_pvd_output(filename=\"chair_pc_data.pth\")"
   ]
  },
  {
   "cell_type": "code",
   "execution_count": null,
   "metadata": {},
   "outputs": [],
   "source": [
    "# visualize_pointcloud(chair, title=\"Chair\", show_axis=False)"
   ]
  },
  {
   "cell_type": "code",
   "execution_count": null,
   "metadata": {},
   "outputs": [],
   "source": [
    "frames = []\n",
    "for i in tqdm(np.linspace(-1.0, 1.0, 3)):\n",
    "    for j in np.linspace(-1.0, 1.0, 3):\n",
    "        for k in np.linspace(-1.0, 1.0, 3):\n",
    "            p = [i, j, k]\n",
    "            queried_points = ball_query(chair, np.array(p), 1)\n",
    "            fig = visualize_pointcloud(queried_points, title=\"Chair\", show_axis=False, axis_ranges=get_axis_ranges(chair))\n",
    "            filename = f\"visuals/chair_patch-{(i+1)*9 + (j+1)*3 + (k+1)}.png\"\n",
    "            plt.savefig(filename, bbox_inches='tight', pad_inches=0)\n",
    "            frames.append(imageio.imread(filename))\n",
    "\n",
    "imageio.mimsave('visuals/chair_patches.gif', frames, duration=200)\n",
    "            "
   ]
  },
  {
   "cell_type": "code",
   "execution_count": null,
   "metadata": {},
   "outputs": [],
   "source": [
    "fig.savefig(\"chair_query.png\", transparent=True, bbox_inches='tight', pad_inches=0, dpi=300)"
   ]
  },
  {
   "cell_type": "code",
   "execution_count": null,
   "metadata": {},
   "outputs": [],
   "source": []
  }
 ],
 "metadata": {
  "kernelspec": {
   "display_name": "Python 3",
   "language": "python",
   "name": "python3"
  },
  "language_info": {
   "codemirror_mode": {
    "name": "ipython",
    "version": 3
   },
   "file_extension": ".py",
   "mimetype": "text/x-python",
   "name": "python",
   "nbconvert_exporter": "python",
   "pygments_lexer": "ipython3",
   "version": "3.8.18"
  }
 },
 "nbformat": 4,
 "nbformat_minor": 2
}
