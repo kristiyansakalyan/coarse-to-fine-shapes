{
 "cells": [
  {
   "cell_type": "code",
   "execution_count": 2,
   "metadata": {},
   "outputs": [],
   "source": [
    "import torch\n",
    "import torch.nn as nn\n",
    "import torch.optim as optim\n",
    "from torch.utils.tensorboard import SummaryWriter\n",
    "\n",
    "from datetime import datetime\n",
    "import functools\n",
    "import matplotlib.pyplot as plt\n",
    "import numpy as np\n",
    "\n",
    "from datasets.shapenet_data_pc import ShapeNet15kPointClouds\n",
    "\n",
    "\n",
    "from modules.se import SE3d\n",
    "from modules.ball_query import BallQuery\n",
    "from modules.shared_mlp import SharedMLP\n",
    "from modules.voxelization import Voxelization\n",
    "import modules.functional as F\n",
    "\n",
    "from metrics.ChamferDistancePytorch.chamfer_python import distChamfer\n",
    "\n",
    "from visuals.visuals_util import rotate_point_cloud_x, rotate_point_cloud_z, rotate_point_cloud_y, visualize_pointcloud_eval, save_fig, visualize_pointcloud_eval_three, visualize_pointcloud"
   ]
  },
  {
   "cell_type": "markdown",
   "metadata": {},
   "source": [
    "# Prepare Datasets and DataLoaders"
   ]
  },
  {
   "cell_type": "code",
   "execution_count": 3,
   "metadata": {},
   "outputs": [
    {
     "name": "stdout",
     "output_type": "stream",
     "text": [
      "Total number of data:2832\n",
      "Min number of points: (train)2048 (test)2048\n",
      "Total number of data:405\n",
      "Min number of points: (train)2048 (test)2048\n",
      "Total number of data:808\n",
      "Min number of points: (train)2048 (test)2048\n"
     ]
    }
   ],
   "source": [
    "tr_dataset = ShapeNet15kPointClouds(root_dir=\"./ShapeNetCore.v2.PC15k\",\n",
    "    categories=[\"airplane\"], split='train',\n",
    "    tr_sample_size=2048,\n",
    "    te_sample_size=2048,\n",
    "    scale=1.,\n",
    "    normalize_per_shape=False,\n",
    "    normalize_std_per_axis=False,\n",
    "    random_subsample=True)\n",
    "\n",
    "val_dataset = ShapeNet15kPointClouds(root_dir=\"./ShapeNetCore.v2.PC15k\",\n",
    "    categories=[\"airplane\"], split='val',\n",
    "    tr_sample_size=2048,\n",
    "    te_sample_size=2048,\n",
    "    scale=1.,\n",
    "    normalize_per_shape=False,\n",
    "    normalize_std_per_axis=False,\n",
    "    random_subsample=True)\n",
    "\n",
    "test_dataset = ShapeNet15kPointClouds(root_dir=\"./ShapeNetCore.v2.PC15k\",\n",
    "    categories=[\"airplane\"], split='test',\n",
    "    tr_sample_size=2048,\n",
    "    te_sample_size=2048,\n",
    "    scale=1.,\n",
    "    normalize_per_shape=False,\n",
    "    normalize_std_per_axis=False,\n",
    "    random_subsample=True)"
   ]
  },
  {
   "cell_type": "markdown",
   "metadata": {},
   "source": [
    "# Now we want to augment the data points by adding Gaussian noise with 0 mean and 0.025 standard deviation"
   ]
  },
  {
   "cell_type": "code",
   "execution_count": 4,
   "metadata": {},
   "outputs": [
    {
     "name": "stdout",
     "output_type": "stream",
     "text": [
      "Number of CPU cores: 32\n"
     ]
    }
   ],
   "source": [
    "import multiprocessing\n",
    "\n",
    "num_cores = multiprocessing.cpu_count()\n",
    "print(\"Number of CPU cores:\", num_cores)"
   ]
  },
  {
   "cell_type": "code",
   "execution_count": 5,
   "metadata": {},
   "outputs": [],
   "source": [
    "train_dataloader = torch.utils.data.DataLoader(tr_dataset, \n",
    "                                               batch_size=20, \n",
    "                                               sampler=None, \n",
    "                                               shuffle=True is None, \n",
    "                                               num_workers=1, \n",
    "                                               drop_last=True)\n",
    "\n",
    "val_dataloader = torch.utils.data.DataLoader(val_dataset, \n",
    "                                               batch_size=50, \n",
    "                                               sampler=None, \n",
    "                                               shuffle=True is None, \n",
    "                                               num_workers=1, \n",
    "                                               drop_last=True)\n",
    "\n",
    "test_dataloader = torch.utils.data.DataLoader(test_dataset, \n",
    "                                               batch_size=50, \n",
    "                                               sampler=None, \n",
    "                                               shuffle=True is None, \n",
    "                                               num_workers=1, \n",
    "                                               drop_last=True)"
   ]
  },
  {
   "cell_type": "code",
   "execution_count": 6,
   "metadata": {},
   "outputs": [
    {
     "data": {
      "text/plain": [
       "(2832, 405, 808)"
      ]
     },
     "execution_count": 6,
     "metadata": {},
     "output_type": "execute_result"
    }
   ],
   "source": [
    "len(tr_dataset), len(val_dataset), len(test_dataset)"
   ]
  },
  {
   "cell_type": "markdown",
   "metadata": {},
   "source": [
    "# Let's see how the shapes change by adding this amount of noise"
   ]
  },
  {
   "cell_type": "code",
   "execution_count": 7,
   "metadata": {},
   "outputs": [],
   "source": [
    "def add_random_noise(point_cloud, mean=0, std=0.025):\n",
    "    noise = torch.normal(mean, std, size=point_cloud.size()).to(\"cuda\")\n",
    "    point_cloud_noise = point_cloud + noise\n",
    "    return point_cloud_noise"
   ]
  },
  {
   "cell_type": "code",
   "execution_count": 8,
   "metadata": {},
   "outputs": [
    {
     "data": {
      "image/png": "[encoded data removed]",
      "text/plain": [
       "<Figure size 1200x600 with 2 Axes>"
      ]
     },
     "metadata": {},
     "output_type": "display_data"
    }
   ],
   "source": [
    "for batch in train_dataloader:\n",
    "    input = batch[\"train_points\"].to(\"cuda\").transpose(1,2)\n",
    "    input_np = input[2, :, :].squeeze().transpose(0, 1).detach().cpu().numpy()\n",
    "\n",
    "    input_noise = add_random_noise(input)\n",
    "    input_np_noise = input_noise[2, :, :].squeeze().transpose(0, 1).detach().cpu().numpy()\n",
    "\n",
    "    fig = visualize_pointcloud_eval(input_np, input_np_noise, \"ShapeNet Ground Truth\", \"ShapeNet With Noise\")\n",
    "    break"
   ]
  },
  {
   "cell_type": "markdown",
   "metadata": {},
   "source": [
    "# Define PVCNN Architecture"
   ]
  },
  {
   "cell_type": "code",
   "execution_count": 9,
   "metadata": {},
   "outputs": [],
   "source": [
    "class PointNetAModule(nn.Module):\n",
    "    def __init__(self, in_channels, out_channels, include_coordinates=True):\n",
    "        super().__init__()\n",
    "        if not isinstance(out_channels, (list, tuple)):\n",
    "            out_channels = [[out_channels]]\n",
    "        elif not isinstance(out_channels[0], (list, tuple)):\n",
    "            out_channels = [out_channels]\n",
    "\n",
    "        mlps = []\n",
    "        total_out_channels = 0\n",
    "        for _out_channels in out_channels:\n",
    "            mlps.append(\n",
    "                SharedMLP(in_channels=in_channels + (3 if include_coordinates else 0),\n",
    "                          out_channels=_out_channels, dim=1)\n",
    "            )\n",
    "            total_out_channels += _out_channels[-1]\n",
    "\n",
    "        self.include_coordinates = include_coordinates\n",
    "        self.out_channels = total_out_channels\n",
    "        self.mlps = nn.ModuleList(mlps)\n",
    "\n",
    "    def forward(self, inputs):\n",
    "        features, coords = inputs\n",
    "        if self.include_coordinates:\n",
    "            features = torch.cat([features, coords], dim=1)\n",
    "        coords = torch.zeros((coords.size(0), 3, 1), device=coords.device)\n",
    "        if len(self.mlps) > 1:\n",
    "            features_list = []\n",
    "            for mlp in self.mlps:\n",
    "                features_list.append(mlp(features).max(dim=-1, keepdim=True).values)\n",
    "            return torch.cat(features_list, dim=1), coords\n",
    "        else:\n",
    "            return self.mlps[0](features).max(dim=-1, keepdim=True).values, coords\n",
    "\n",
    "    def extra_repr(self):\n",
    "        return f'out_channels={self.out_channels}, include_coordinates={self.include_coordinates}'\n",
    "\n",
    "\n",
    "class PointNetSAModule(nn.Module):\n",
    "    def __init__(self, num_centers, radius, num_neighbors, in_channels, out_channels, include_coordinates=True):\n",
    "        super().__init__()\n",
    "        if not isinstance(radius, (list, tuple)):\n",
    "            radius = [radius]\n",
    "        if not isinstance(num_neighbors, (list, tuple)):\n",
    "            num_neighbors = [num_neighbors] * len(radius)\n",
    "        assert len(radius) == len(num_neighbors)\n",
    "        if not isinstance(out_channels, (list, tuple)):\n",
    "            out_channels = [[out_channels]] * len(radius)\n",
    "        elif not isinstance(out_channels[0], (list, tuple)):\n",
    "            out_channels = [out_channels] * len(radius)\n",
    "        assert len(radius) == len(out_channels)\n",
    "\n",
    "        groupers, mlps = [], []\n",
    "        total_out_channels = 0\n",
    "        for _radius, _out_channels, _num_neighbors in zip(radius, out_channels, num_neighbors):\n",
    "            groupers.append(\n",
    "                BallQuery(radius=_radius, num_neighbors=_num_neighbors, include_coordinates=include_coordinates)\n",
    "            )\n",
    "            mlps.append(\n",
    "                SharedMLP(in_channels=in_channels + (3 if include_coordinates else 0),\n",
    "                          out_channels=_out_channels, dim=2)\n",
    "            )\n",
    "            total_out_channels += _out_channels[-1]\n",
    "\n",
    "        self.num_centers = num_centers\n",
    "        self.out_channels = total_out_channels\n",
    "        self.groupers = nn.ModuleList(groupers)\n",
    "        self.mlps = nn.ModuleList(mlps)\n",
    "\n",
    "    def forward(self, inputs):\n",
    "        features, coords = inputs\n",
    "        centers_coords = F.furthest_point_sample(coords, self.num_centers)\n",
    "        features_list = []\n",
    "        for grouper, mlp in zip(self.groupers, self.mlps):\n",
    "            features_list.append(mlp(grouper(coords, centers_coords, features)).max(dim=-1).values)\n",
    "        if len(features_list) > 1:\n",
    "            return torch.cat(features_list, dim=1), centers_coords\n",
    "        else:\n",
    "            return features_list[0], centers_coords\n",
    "\n",
    "    def extra_repr(self):\n",
    "        return f'num_centers={self.num_centers}, out_channels={self.out_channels}'\n",
    "\n",
    "\n",
    "class PointNetFPModule(nn.Module):\n",
    "    def __init__(self, in_channels, out_channels):\n",
    "        super().__init__()\n",
    "        self.mlp = SharedMLP(in_channels=in_channels, out_channels=out_channels, dim=1)\n",
    "\n",
    "    def forward(self, inputs):\n",
    "        if len(inputs) == 3:\n",
    "            points_coords, centers_coords, centers_features = inputs\n",
    "            points_features = None\n",
    "        else:\n",
    "            points_coords, centers_coords, centers_features, points_features = inputs\n",
    "        interpolated_features = F.nearest_neighbor_interpolate(points_coords, centers_coords, centers_features)\n",
    "        if points_features is not None:\n",
    "            interpolated_features = torch.cat(\n",
    "                [interpolated_features, points_features], dim=1\n",
    "            )\n",
    "        return self.mlp(interpolated_features), points_coords"
   ]
  },
  {
   "cell_type": "code",
   "execution_count": 10,
   "metadata": {},
   "outputs": [],
   "source": [
    "class PVConv(nn.Module):\n",
    "    def __init__(self, in_channels, out_channels, kernel_size, resolution, with_se=False, normalize=True, eps=0):\n",
    "        super().__init__()\n",
    "        self.in_channels = in_channels\n",
    "        self.out_channels = out_channels\n",
    "        self.kernel_size = kernel_size\n",
    "        self.resolution = resolution\n",
    "\n",
    "        self.voxelization = Voxelization(resolution, normalize=normalize, eps=eps)\n",
    "        voxel_layers = [\n",
    "            nn.Conv3d(in_channels, out_channels, kernel_size, stride=1, padding=kernel_size // 2),\n",
    "            nn.BatchNorm3d(out_channels, eps=1e-4),\n",
    "            nn.LeakyReLU(0.1, True),\n",
    "            nn.Conv3d(out_channels, out_channels, kernel_size, stride=1, padding=kernel_size // 2),\n",
    "            nn.BatchNorm3d(out_channels, eps=1e-4),\n",
    "            nn.LeakyReLU(0.1, True),\n",
    "         ]\n",
    "        if with_se:\n",
    "            voxel_layers.append(SE3d(out_channels))\n",
    "        self.voxel_layers = nn.Sequential(*voxel_layers)\n",
    "        self.point_features = SharedMLP(in_channels, out_channels)\n",
    "\n",
    "    def forward(self, inputs):\n",
    "        features, coords = inputs\n",
    "        voxel_features, voxel_coords = self.voxelization(features, coords)\n",
    "        voxel_features = self.voxel_layers(voxel_features)\n",
    "        voxel_features = F.trilinear_devoxelize(voxel_features, voxel_coords, self.resolution, self.training)\n",
    "        fused_features = voxel_features + self.point_features(features)\n",
    "        return fused_features, coords"
   ]
  },
  {
   "cell_type": "code",
   "execution_count": 11,
   "metadata": {},
   "outputs": [],
   "source": [
    "def _linear_bn_relu(in_channels, out_channels):\n",
    "    return nn.Sequential(nn.Linear(in_channels, out_channels), nn.BatchNorm1d(out_channels), nn.ReLU(True))\n",
    "\n",
    "\n",
    "def create_mlp_components(in_channels, out_channels, classifier=False, dim=2, width_multiplier=1):\n",
    "    r = width_multiplier\n",
    "\n",
    "    if dim == 1:\n",
    "        block = _linear_bn_relu\n",
    "    else:\n",
    "        block = SharedMLP\n",
    "    if not isinstance(out_channels, (list, tuple)):\n",
    "        out_channels = [out_channels]\n",
    "    if len(out_channels) == 0 or (len(out_channels) == 1 and out_channels[0] is None):\n",
    "        return nn.Sequential(), in_channels, in_channels\n",
    "\n",
    "    layers = []\n",
    "    for oc in out_channels[:-1]:\n",
    "        if oc < 1:\n",
    "            layers.append(nn.Dropout(oc))\n",
    "        else:\n",
    "            oc = int(r * oc)\n",
    "            layers.append(block(in_channels, oc))\n",
    "            in_channels = oc\n",
    "    if dim == 1:\n",
    "        if classifier:\n",
    "            layers.append(nn.Linear(in_channels, out_channels[-1]))\n",
    "        else:\n",
    "            layers.append(_linear_bn_relu(in_channels, int(r * out_channels[-1])))\n",
    "    else:\n",
    "        if classifier:\n",
    "            layers.append(nn.Conv1d(in_channels, out_channels[-1], 1))\n",
    "        else:\n",
    "            layers.append(SharedMLP(in_channels, int(r * out_channels[-1])))\n",
    "    return layers, out_channels[-1] if classifier else int(r * out_channels[-1])\n",
    "\n",
    "\n",
    "def create_pointnet_components(blocks, in_channels, with_se=False, normalize=True, eps=0,\n",
    "                               width_multiplier=1, voxel_resolution_multiplier=1):\n",
    "    r, vr = width_multiplier, voxel_resolution_multiplier\n",
    "\n",
    "    layers, concat_channels = [], 0\n",
    "    for out_channels, num_blocks, voxel_resolution in blocks:\n",
    "        out_channels = int(r * out_channels)\n",
    "        if voxel_resolution is None:\n",
    "            block = SharedMLP\n",
    "        else:\n",
    "            block = functools.partial(PVConv, kernel_size=3, resolution=int(vr * voxel_resolution),\n",
    "                                      with_se=with_se, normalize=normalize, eps=eps)\n",
    "        for _ in range(num_blocks):\n",
    "            layers.append(block(in_channels, out_channels))\n",
    "            in_channels = out_channels\n",
    "            concat_channels += out_channels\n",
    "    return layers, in_channels, concat_channels\n",
    "\n",
    "\n",
    "def create_pointnet2_sa_components(sa_blocks, extra_feature_channels, with_se=False, normalize=True, eps=0,\n",
    "                                   width_multiplier=1, voxel_resolution_multiplier=1):\n",
    "    r, vr = width_multiplier, voxel_resolution_multiplier\n",
    "    in_channels = extra_feature_channels + 3\n",
    "\n",
    "    sa_layers, sa_in_channels = [], []\n",
    "    for conv_configs, sa_configs in sa_blocks:\n",
    "        sa_in_channels.append(in_channels)\n",
    "        sa_blocks = []\n",
    "        if conv_configs is not None:\n",
    "            out_channels, num_blocks, voxel_resolution = conv_configs\n",
    "            out_channels = int(r * out_channels)\n",
    "            if voxel_resolution is None:\n",
    "                block = SharedMLP\n",
    "            else:\n",
    "                block = functools.partial(PVConv, kernel_size=3, resolution=int(vr * voxel_resolution),\n",
    "                                          with_se=with_se, normalize=normalize, eps=eps)\n",
    "            for _ in range(num_blocks):\n",
    "                sa_blocks.append(block(in_channels, out_channels))\n",
    "                in_channels = out_channels\n",
    "            extra_feature_channels = in_channels\n",
    "        num_centers, radius, num_neighbors, out_channels = sa_configs\n",
    "        _out_channels = []\n",
    "        for oc in out_channels:\n",
    "            if isinstance(oc, (list, tuple)):\n",
    "                _out_channels.append([int(r * _oc) for _oc in oc])\n",
    "            else:\n",
    "                _out_channels.append(int(r * oc))\n",
    "        out_channels = _out_channels\n",
    "        if num_centers is None:\n",
    "            block = PointNetAModule\n",
    "        else:\n",
    "            block = functools.partial(PointNetSAModule, num_centers=num_centers, radius=radius,\n",
    "                                      num_neighbors=num_neighbors)\n",
    "        sa_blocks.append(block(in_channels=extra_feature_channels, out_channels=out_channels,\n",
    "                               include_coordinates=True))\n",
    "        in_channels = extra_feature_channels = sa_blocks[-1].out_channels\n",
    "        if len(sa_blocks) == 1:\n",
    "            sa_layers.append(sa_blocks[0])\n",
    "        else:\n",
    "            sa_layers.append(nn.Sequential(*sa_blocks))\n",
    "\n",
    "    return sa_layers, sa_in_channels, in_channels, 1 if num_centers is None else num_centers\n",
    "\n",
    "\n",
    "def create_pointnet2_fp_modules(fp_blocks, in_channels, sa_in_channels, with_se=False, normalize=True, eps=0,\n",
    "                                width_multiplier=1, voxel_resolution_multiplier=1):\n",
    "    r, vr = width_multiplier, voxel_resolution_multiplier\n",
    "\n",
    "    fp_layers = []\n",
    "    for fp_idx, (fp_configs, conv_configs) in enumerate(fp_blocks):\n",
    "        fp_blocks = []\n",
    "        out_channels = tuple(int(r * oc) for oc in fp_configs)\n",
    "        fp_blocks.append(\n",
    "            PointNetFPModule(in_channels=in_channels + sa_in_channels[-1 - fp_idx], out_channels=out_channels)\n",
    "        )\n",
    "        in_channels = out_channels[-1]\n",
    "        if conv_configs is not None:\n",
    "            out_channels, num_blocks, voxel_resolution = conv_configs\n",
    "            out_channels = int(r * out_channels)\n",
    "            if voxel_resolution is None:\n",
    "                block = SharedMLP\n",
    "            else:\n",
    "                block = functools.partial(PVConv, kernel_size=3, resolution=int(vr * voxel_resolution),\n",
    "                                          with_se=with_se, normalize=normalize, eps=eps)\n",
    "            for _ in range(num_blocks):\n",
    "                fp_blocks.append(block(in_channels, out_channels))\n",
    "                in_channels = out_channels\n",
    "        if len(fp_blocks) == 1:\n",
    "            fp_layers.append(fp_blocks[0])\n",
    "        else:\n",
    "            fp_layers.append(nn.Sequential(*fp_blocks))\n",
    "\n",
    "    return fp_layers, in_channels"
   ]
  },
  {
   "cell_type": "code",
   "execution_count": 12,
   "metadata": {},
   "outputs": [],
   "source": [
    "class PVCNN(nn.Module):\n",
    "    blocks = ((64, 1, 32), (128, 2, 16), (512, 1, None), (2048, 1, None))\n",
    "\n",
    "    def __init__(self, num_classes, num_shapes, extra_feature_channels=3,\n",
    "                 width_multiplier=1, voxel_resolution_multiplier=1):\n",
    "        super().__init__()\n",
    "        assert extra_feature_channels >= 0\n",
    "        self.in_channels = extra_feature_channels + 3\n",
    "        self.num_shapes = num_shapes\n",
    "\n",
    "        layers, channels_point, concat_channels_point = create_pointnet_components(\n",
    "            blocks=self.blocks, in_channels=self.in_channels, with_se=True, normalize=False,\n",
    "            width_multiplier=width_multiplier, voxel_resolution_multiplier=voxel_resolution_multiplier\n",
    "        )\n",
    "        self.point_features = nn.ModuleList(layers)\n",
    "\n",
    "        layers, _ = create_mlp_components(in_channels=(num_shapes + channels_point + concat_channels_point),\n",
    "                                          out_channels=[256, 0.2, 256, 0.2, 128, num_classes],\n",
    "                                          classifier=True, dim=2, width_multiplier=width_multiplier)\n",
    "        self.classifier = nn.Sequential(*layers)\n",
    "\n",
    "    def forward(self, inputs):\n",
    "        # inputs : [B, in_channels + S, N]\n",
    "        features = inputs[:, :self.in_channels, :]\n",
    "        one_hot_vectors = inputs[:, -self.num_shapes:, :]\n",
    "        num_points = features.size(-1)\n",
    "\n",
    "        coords = features[:, :3, :]\n",
    "        out_features_list = [one_hot_vectors]\n",
    "        for i in range(len(self.point_features)):\n",
    "            features, _ = self.point_features[i]((features, coords))\n",
    "            out_features_list.append(features)\n",
    "        out_features_list.append(features.max(dim=-1, keepdim=True).values.repeat([1, 1, num_points]))\n",
    "        return self.classifier(torch.cat(out_features_list, dim=1))"
   ]
  },
  {
   "cell_type": "code",
   "execution_count": 13,
   "metadata": {},
   "outputs": [],
   "source": [
    "def chamfer_distance(a, b):\n",
    "    min_dist_a_to_b, min_dist_b_to_a, _, _ = distChamfer(a, b)\n",
    "    return (min_dist_a_to_b.mean() + min_dist_b_to_a.mean()) / 2"
   ]
  },
  {
   "cell_type": "markdown",
   "metadata": {},
   "source": [
    "# Let's train the PVCNN"
   ]
  },
  {
   "cell_type": "code",
   "execution_count": 27,
   "metadata": {},
   "outputs": [],
   "source": [
    "model = PVCNN(num_classes=3, num_shapes=3, extra_feature_channels=0).to(\"cuda\")"
   ]
  },
  {
   "cell_type": "code",
   "execution_count": 32,
   "metadata": {},
   "outputs": [],
   "source": [
    "for batch in train_dataloader:\n",
    "    input = batch[\"train_points\"].to(\"cuda\").transpose(1,2)\n",
    "    break"
   ]
  },
  {
   "cell_type": "code",
   "execution_count": 33,
   "metadata": {},
   "outputs": [],
   "source": [
    "output = model(input)"
   ]
  },
  {
   "cell_type": "code",
   "execution_count": 34,
   "metadata": {},
   "outputs": [
    {
     "data": {
      "text/plain": [
       "(torch.Size([20, 3, 2048]), torch.Size([20, 3, 2048]))"
      ]
     },
     "execution_count": 34,
     "metadata": {},
     "output_type": "execute_result"
    }
   ],
   "source": [
    "input.shape, output.shape"
   ]
  },
  {
   "cell_type": "code",
   "execution_count": 35,
   "metadata": {},
   "outputs": [
    {
     "data": {
      "text/plain": [
       "tensor(6.7123, device='cuda:0', grad_fn=<DivBackward0>)"
      ]
     },
     "execution_count": 35,
     "metadata": {},
     "output_type": "execute_result"
    }
   ],
   "source": [
    "chamfer_distance(input, output)"
   ]
  },
  {
   "cell_type": "code",
   "execution_count": 36,
   "metadata": {},
   "outputs": [
    {
     "data": {
      "text/plain": [
       "tensor(0.4448, device='cuda:0', grad_fn=<DivBackward0>)"
      ]
     },
     "execution_count": 36,
     "metadata": {},
     "output_type": "execute_result"
    }
   ],
   "source": [
    "chamfer_distance(input.transpose(1,2), output.transpose(1,2))"
   ]
  },
  {
   "cell_type": "code",
   "execution_count": 38,
   "metadata": {},
   "outputs": [
    {
     "name": "stdout",
     "output_type": "stream",
     "text": [
      "Epoch 1,  Training Loss: 0.0156, Validation Loss: 0.0152\n",
      "Epoch 2,  Training Loss: 0.0119, Validation Loss: 0.0152\n",
      "Epoch 3,  Training Loss: 0.0112, Validation Loss: 0.0146\n",
      "Epoch 4,  Training Loss: 0.0108, Validation Loss: 0.0146\n",
      "Epoch 5,  Training Loss: 0.0103, Validation Loss: 0.0139\n",
      "Epoch 6,  Training Loss: 0.0097, Validation Loss: 0.0138\n",
      "Epoch 7,  Training Loss: 0.0092, Validation Loss: 0.0132\n",
      "Epoch 8,  Training Loss: 0.0090, Validation Loss: 0.0129\n",
      "Epoch 9,  Training Loss: 0.0087, Validation Loss: 0.0125\n",
      "Epoch 10,  Training Loss: 0.0084, Validation Loss: 0.0132\n",
      "No improvement in validation loss for 1 epochs.\n",
      "Epoch 11,  Training Loss: 0.0080, Validation Loss: 0.0127\n",
      "No improvement in validation loss for 2 epochs.\n",
      "Epoch 12,  Training Loss: 0.0079, Validation Loss: 0.0131\n",
      "No improvement in validation loss for 3 epochs.\n",
      "Epoch 13,  Training Loss: 0.0078, Validation Loss: 0.0125\n",
      "No improvement in validation loss for 4 epochs.\n",
      "Epoch 14,  Training Loss: 0.0075, Validation Loss: 0.0121\n",
      "Epoch 15,  Training Loss: 0.0072, Validation Loss: 0.0123\n",
      "No improvement in validation loss for 1 epochs.\n",
      "Epoch 16,  Training Loss: 0.0071, Validation Loss: 0.0124\n",
      "No improvement in validation loss for 2 epochs.\n",
      "Epoch 17,  Training Loss: 0.0070, Validation Loss: 0.0121\n",
      "No improvement in validation loss for 3 epochs.\n",
      "Epoch 18,  Training Loss: 0.0069, Validation Loss: 0.0116\n",
      "Epoch 19,  Training Loss: 0.0068, Validation Loss: 0.0116\n",
      "Epoch 20,  Training Loss: 0.0065, Validation Loss: 0.0114\n",
      "Epoch 21,  Training Loss: 0.0064, Validation Loss: 0.0103\n",
      "Epoch 22,  Training Loss: 0.0061, Validation Loss: 0.0081\n",
      "Epoch 23,  Training Loss: 0.0055, Validation Loss: 0.0058\n",
      "Epoch 24,  Training Loss: 0.0051, Validation Loss: 0.0041\n",
      "Epoch 25,  Training Loss: 0.0047, Validation Loss: 0.0030\n",
      "Epoch 26,  Training Loss: 0.0041, Validation Loss: 0.0022\n",
      "Epoch 27,  Training Loss: 0.0039, Validation Loss: 0.0021\n",
      "Epoch 28,  Training Loss: 0.0038, Validation Loss: 0.0020\n",
      "Epoch 29,  Training Loss: 0.0036, Validation Loss: 0.0019\n",
      "Epoch 30,  Training Loss: 0.0036, Validation Loss: 0.0019\n",
      "No improvement in validation loss for 1 epochs.\n",
      "Epoch 31,  Training Loss: 0.0035, Validation Loss: 0.0018\n",
      "Epoch 32,  Training Loss: 0.0035, Validation Loss: 0.0019\n",
      "No improvement in validation loss for 1 epochs.\n",
      "Epoch 33,  Training Loss: 0.0035, Validation Loss: 0.0020\n",
      "No improvement in validation loss for 2 epochs.\n",
      "Epoch 34,  Training Loss: 0.0035, Validation Loss: 0.0018\n",
      "No improvement in validation loss for 3 epochs.\n",
      "Epoch 35,  Training Loss: 0.0035, Validation Loss: 0.0021\n",
      "No improvement in validation loss for 4 epochs.\n",
      "Epoch 36,  Training Loss: 0.0035, Validation Loss: 0.0019\n",
      "No improvement in validation loss for 5 epochs.\n",
      "Epoch 37,  Training Loss: 0.0034, Validation Loss: 0.0018\n",
      "No improvement in validation loss for 6 epochs.\n",
      "Epoch 38,  Training Loss: 0.0034, Validation Loss: 0.0020\n",
      "No improvement in validation loss for 7 epochs.\n",
      "Epoch 39,  Training Loss: 0.0034, Validation Loss: 0.0019\n",
      "No improvement in validation loss for 8 epochs.\n",
      "Epoch 40,  Training Loss: 0.0035, Validation Loss: 0.0019\n",
      "No improvement in validation loss for 9 epochs.\n",
      "Epoch 41,  Training Loss: 0.0035, Validation Loss: 0.0019\n",
      "No improvement in validation loss for 10 epochs.\n",
      "Stopping early due to no improvement in validation loss.\n"
     ]
    }
   ],
   "source": [
    "# TensorBoard Logging with model's name and current date\n",
    "current_time = datetime.now().strftime('%b%d_%H-%M-%S')\n",
    "model_name = 'PVCNN-Refinement'\n",
    "log_dir = f\"runs/{model_name}_{current_time}\"\n",
    "writer = SummaryWriter(log_dir=log_dir)\n",
    "\n",
    "# Optimization\n",
    "optimizer = optim.Adam(model.parameters(), lr=1e-4, weight_decay=1e-5)\n",
    "lr_scheduler = optim.lr_scheduler.ExponentialLR(optimizer, 0.998)\n",
    "\n",
    "# Losses\n",
    "training_losses = []\n",
    "val_losses = []\n",
    "\n",
    "# Early Stopping (patience)\n",
    "best_val_loss = np.inf\n",
    "patience = 10\n",
    "patience_counter = 0\n",
    "\n",
    "for epoch in range(100):\n",
    "    total_train_loss = 0\n",
    "    total_val_loss = 0\n",
    "\n",
    "    # Train\n",
    "    model.train()\n",
    "    for batch in train_dataloader:\n",
    "        input = batch[\"train_points\"].to(\"cuda\").transpose(1,2)\n",
    "\n",
    "        # Add noise to the input\n",
    "        noised_input = add_random_noise(input)\n",
    "        \n",
    "        optimizer.zero_grad()\n",
    "        output = model(noised_input).to(\"cuda\")\n",
    "        loss = chamfer_distance(input.transpose(1,2), output.transpose(1,2))\n",
    "        loss.backward()\n",
    "        optimizer.step()\n",
    "\n",
    "        total_train_loss += loss.item()\n",
    "\n",
    "    epoch_train_loss = total_train_loss / len(train_dataloader)\n",
    "    training_losses.append(epoch_train_loss)\n",
    "\n",
    "\n",
    "    # Validate\n",
    "    model.eval()\n",
    "    with torch.no_grad():\n",
    "        for batch in val_dataloader:\n",
    "            input = batch[\"test_points\"].to(\"cuda\").transpose(1,2)\n",
    "\n",
    "            # Add noise to the input\n",
    "            noised_input = add_random_noise(input)\n",
    "            \n",
    "            output = model(noised_input).to(\"cuda\")\n",
    "            val_loss = chamfer_distance(input.transpose(1,2), output.transpose(1,2))\n",
    "\n",
    "            total_val_loss += val_loss.item()\n",
    "\n",
    "    epoch_val_loss = total_val_loss / len(val_dataloader)\n",
    "    val_losses.append(epoch_val_loss)\n",
    "\n",
    "    writer.add_scalar('Loss/train', epoch_train_loss, epoch)\n",
    "    writer.add_scalar('Loss/val', epoch_val_loss, epoch)\n",
    "\n",
    "    print(f\"Epoch {epoch+1},  Training Loss: {epoch_train_loss:.4f}, Validation Loss: {epoch_val_loss:.4f}\")\n",
    "\n",
    "    # Check for improvement\n",
    "    if epoch_val_loss < best_val_loss:\n",
    "        best_val_loss = epoch_val_loss\n",
    "        patience_counter = 0  # reset the patience counter\n",
    "    else:\n",
    "        patience_counter += 1\n",
    "        print(f\"No improvement in validation loss for {patience_counter} epochs.\")\n",
    "\n",
    "    # Break the loop if patience exceeded\n",
    "    if patience_counter >= patience:\n",
    "        print(\"Stopping early due to no improvement in validation loss.\")\n",
    "        break\n",
    "\n",
    "    # Save the model\n",
    "    model_save_path = f\"output-models/pvcnn-refinement/PVCNN-Baseline-Refinement-e{epoch+1}.pth\"\n",
    "    torch.save(model.state_dict(), model_save_path)\n",
    "\n",
    "\n",
    "writer.close()"
   ]
  },
  {
   "cell_type": "code",
   "execution_count": 46,
   "metadata": {},
   "outputs": [],
   "source": [
    "training_losses_np = np.array(training_losses) * (10**3)\n",
    "val_losses_np = np.array(val_losses) * (10**3) "
   ]
  },
  {
   "cell_type": "code",
   "execution_count": 47,
   "metadata": {},
   "outputs": [
    {
     "data": {
      "image/png": "[encoded data removed]",
      "text/plain": [
       "<Figure size 1000x500 with 1 Axes>"
      ]
     },
     "metadata": {},
     "output_type": "display_data"
    }
   ],
   "source": [
    "plt.figure(figsize=(10, 5))\n",
    "plt.plot(training_losses_np, label='Training Loss')\n",
    "plt.plot(val_losses_np, label='Validation Loss')\n",
    "plt.title('Training & Validation Loss')\n",
    "plt.xlabel('Epoch')\n",
    "plt.ylabel('Chamfer Distance Loss * 10^3')\n",
    "plt.legend()\n",
    "plt.show()"
   ]
  },
  {
   "cell_type": "markdown",
   "metadata": {},
   "source": [
    "# Let's visualize some examples"
   ]
  },
  {
   "cell_type": "code",
   "execution_count": 14,
   "metadata": {},
   "outputs": [
    {
     "data": {
      "text/plain": [
       "<All keys matched successfully>"
      ]
     },
     "execution_count": 14,
     "metadata": {},
     "output_type": "execute_result"
    }
   ],
   "source": [
    "# Run this if you need to load the model.\n",
    "\n",
    "model = PVCNN(num_classes=3, num_shapes=3, extra_feature_channels=0).to(\"cuda\")\n",
    "model.load_state_dict(torch.load(\"output-models/pvcnn-refinement/PVCNN-Baseline-Refinement-best-1.pth\"))"
   ]
  },
  {
   "cell_type": "code",
   "execution_count": 15,
   "metadata": {},
   "outputs": [],
   "source": [
    "model.eval()\n",
    "\n",
    "with torch.no_grad():\n",
    "    for batch in train_dataloader:\n",
    "        input = batch[\"train_points\"].to(\"cuda\").transpose(1,2)\n",
    "        \n",
    "        # Add noise to the input\n",
    "        noised_input = add_random_noise(input)\n",
    "        output = model(noised_input).to(\"cuda\")\n",
    "        break"
   ]
  },
  {
   "cell_type": "code",
   "execution_count": null,
   "metadata": {},
   "outputs": [],
   "source": [
    "i = 1\n",
    "for gt, noised_input_sample, output_pvcnn in zip(input, noised_input, output):\n",
    "    input_np = gt.squeeze().transpose(0, 1).detach().cpu().numpy()\n",
    "    noised_input_np = noised_input_sample.squeeze().transpose(0, 1).detach().cpu().numpy()\n",
    "    output_np = output_pvcnn.squeeze().transpose(0, 1).detach().cpu().numpy()\n",
    "\n",
    "\n",
    "    # output_np = rotate_point_cloud_z(output_np, 90)\n",
    "    # output_np = rotate_point_cloud_y(output_np, -90)\n",
    "\n",
    "    fig = visualize_pointcloud_eval_three(input_np, noised_input_np, output_np,\"ShapeNet Ground Truth\", \"ShapeNet With Noise\", \"PVCNN Refinement\")\n",
    "    # save_fig(fig, f\"./eval-results/pvcnn-refinement/train-example-{i}.jpg\")\n",
    "\n",
    "    i += 1\n",
    "\n",
    "    if i > 10:\n",
    "        break"
   ]
  },
  {
   "cell_type": "code",
   "execution_count": 16,
   "metadata": {},
   "outputs": [],
   "source": [
    "torch.save(input, \"./eval-results/data-for-visualization/global-refinement-input.pth\")\n",
    "torch.save(noised_input, \"./eval-results/data-for-visualization/global-refinement-noised-input.pth\")\n",
    "torch.save(output, \"./eval-results/data-for-visualization/global-refinement-output.pth\")"
   ]
  },
  {
   "cell_type": "markdown",
   "metadata": {},
   "source": [
    "# Evaluate the trained PVCNN"
   ]
  },
  {
   "cell_type": "code",
   "execution_count": 12,
   "metadata": {},
   "outputs": [
    {
     "name": "stdout",
     "output_type": "stream",
     "text": [
      "Batch 0, CD Loss: 0.0026\n",
      "Batch 1, CD Loss: 0.0023\n",
      "Batch 2, CD Loss: 0.0028\n",
      "Batch 3, CD Loss: 0.0022\n",
      "Batch 4, CD Loss: 0.0023\n",
      "Batch 5, CD Loss: 0.0024\n",
      "Batch 6, CD Loss: 0.0023\n",
      "Batch 7, CD Loss: 0.0025\n",
      "Batch 8, CD Loss: 0.0026\n",
      "Batch 9, CD Loss: 0.0024\n",
      "Batch 10, CD Loss: 0.0022\n",
      "Batch 11, CD Loss: 0.0025\n",
      "Batch 12, CD Loss: 0.0025\n",
      "Batch 13, CD Loss: 0.0027\n",
      "Batch 14, CD Loss: 0.0022\n",
      "Batch 15, CD Loss: 0.0023\n",
      "TOTAL CD Loss (*10^3): 2.4220\n"
     ]
    }
   ],
   "source": [
    "model.eval()\n",
    "\n",
    "total_train_loss = 0\n",
    "\n",
    "input_arr = []\n",
    "output_arr = []\n",
    "\n",
    "for i, batch in enumerate(test_dataloader):\n",
    "    with torch.no_grad():\n",
    "        input = batch[\"test_points\"].to(\"cuda\").transpose(1,2)\n",
    "\n",
    "        # Add noise to the input\n",
    "        noised_input = add_random_noise(input)\n",
    "        output = model(noised_input).to(\"cuda\")\n",
    "\n",
    "        input = input.transpose(1,2)\n",
    "        output = output.transpose(1,2)\n",
    "\n",
    "        input_arr.append(input)\n",
    "        output_arr.append(output)\n",
    "\n",
    "        loss = chamfer_distance(input, output)\n",
    "        total_train_loss += loss.item()\n",
    "        print(f\"Batch {i}, CD Loss: {loss.item():.4f}\")\n",
    "\n",
    "average_loss = total_train_loss / len(test_dataloader)\n",
    "print(f\"TOTAL CD Loss (*10^3): {average_loss * (10**3):.4f}\")"
   ]
  },
  {
   "cell_type": "code",
   "execution_count": 15,
   "metadata": {},
   "outputs": [
    {
     "data": {
      "text/plain": [
       "torch.Size([400, 2048, 3])"
      ]
     },
     "execution_count": 15,
     "metadata": {},
     "output_type": "execute_result"
    }
   ],
   "source": [
    "torch.cat(input_arr)[:400, :, :].shape"
   ]
  },
  {
   "cell_type": "code",
   "execution_count": 17,
   "metadata": {},
   "outputs": [
    {
     "name": "stderr",
     "output_type": "stream",
     "text": [
      "  0%|          | 0/400 [00:00<?, ?it/s]"
     ]
    },
    {
     "name": "stdout",
     "output_type": "stream",
     "text": [
      "Jitting Chamfer 3D\n",
      "Loaded JIT 3D CUDA chamfer distance\n"
     ]
    },
    {
     "name": "stderr",
     "output_type": "stream",
     "text": [
      "100%|██████████| 400/400 [03:42<00:00,  1.79it/s]\n",
      "100%|██████████| 400/400 [03:43<00:00,  1.79it/s]\n",
      "100%|██████████| 400/400 [03:43<00:00,  1.79it/s]"
     ]
    },
    {
     "name": "stdout",
     "output_type": "stream",
     "text": [
      "{'lgan_mmd-CD': 0.00483520794659853, 'lgan_cov-CD': 1.0, 'lgan_mmd_smp-CD': 0.00483520794659853, 'lgan_mmd-EMD': 0.027979116886854172, 'lgan_cov-EMD': 1.0, 'lgan_mmd_smp-EMD': 0.027979116886854172, '1-NN-CD-acc_t': 0.0, '1-NN-CD-acc_f': 0.0, '1-NN-CD-acc': 0.0, '1-NN-EMD-acc_t': 0.0, '1-NN-EMD-acc_f': 0.0, '1-NN-EMD-acc': 0.0}\n"
     ]
    },
    {
     "name": "stderr",
     "output_type": "stream",
     "text": [
      "\n"
     ]
    }
   ],
   "source": [
    "from metrics.evaluation_metrics import compute_all_metrics\n",
    "\n",
    "results = compute_all_metrics(torch.cat(input_arr)[:400, :, :], torch.cat(output_arr)[:400, :, :], 100)\n",
    "results = {k: (v.cpu().detach().item()\n",
    "                if not isinstance(v, float) else v) for k, v in results.items()}\n",
    "\n",
    "print(results)"
   ]
  },
  {
   "cell_type": "code",
   "execution_count": null,
   "metadata": {},
   "outputs": [],
   "source": [
    "test = {'lgan_mmd-CD': 0.00483520794659853, \n",
    "        'lgan_cov-CD': 1.0, \n",
    "        'lgan_mmd_smp-CD': 0.00483520794659853, \n",
    "        'lgan_mmd-EMD': 0.027979116886854172, \n",
    "        'lgan_cov-EMD': 1.0, \n",
    "        'lgan_mmd_smp-EMD': 0.027979116886854172, \n",
    "        '1-NN-CD-acc_t': 0.0, \n",
    "        '1-NN-CD-acc_f': 0.0, \n",
    "        '1-NN-CD-acc': 0.0, \n",
    "        '1-NN-EMD-acc_t': 0.0, \n",
    "        '1-NN-EMD-acc_f': 0.0, \n",
    "        '1-NN-EMD-acc': 0.0}"
   ]
  },
  {
   "cell_type": "markdown",
   "metadata": {},
   "source": [
    "# Let's visualize some more examples from the test set"
   ]
  },
  {
   "cell_type": "code",
   "execution_count": 53,
   "metadata": {},
   "outputs": [],
   "source": [
    "model.eval()\n",
    "\n",
    "with torch.no_grad():\n",
    "    for batch in test_dataloader:\n",
    "        input = batch[\"train_points\"].to(\"cuda\").transpose(1,2)\n",
    "        \n",
    "        # Add noise to the input\n",
    "        noised_input = add_random_noise(input)\n",
    "        output = model(noised_input).to(\"cuda\")\n",
    "        break"
   ]
  },
  {
   "cell_type": "code",
   "execution_count": null,
   "metadata": {},
   "outputs": [],
   "source": [
    "i = 1\n",
    "for gt, noised_input_sample, output_pvcnn in zip(input, noised_input, output):\n",
    "    input_np = gt.squeeze().transpose(0, 1).detach().cpu().numpy()\n",
    "    noised_input_np = noised_input_sample.squeeze().transpose(0, 1).detach().cpu().numpy()\n",
    "    output_np = output_pvcnn.squeeze().transpose(0, 1).detach().cpu().numpy()\n",
    "\n",
    "    # output_np = rotate_point_cloud_z(output_np, 90)\n",
    "    # output_np = rotate_point_cloud_y(output_np, -90)\n",
    "\n",
    "    fig = visualize_pointcloud_eval_three(input_np, noised_input_np, output_np,\"ShapeNet Ground Truth\", \"ShapeNet With Noise\", \"PVCNN Refinement\")\n",
    "    save_fig(fig, f\"./eval-results/pvcnn-refinement/test-example-{i}.jpg\")\n",
    "\n",
    "    i += 1\n",
    "\n",
    "    if i > 10:\n",
    "        break"
   ]
  },
  {
   "cell_type": "markdown",
   "metadata": {},
   "source": [
    "# Final Results\n",
    "\n",
    "### Training (Last Epoch)\n",
    "- Training CD Loss (* 10^3): 3.6\n",
    "- Validation CD Loss (* 10^3): 1.9\n",
    "\n",
    "### Evaluation\n",
    "- CD Loss (* 10^3): 2.6751"
   ]
  },
  {
   "cell_type": "markdown",
   "metadata": {},
   "source": [
    "# Let's now try to imrpove the dataset of PVD"
   ]
  },
  {
   "cell_type": "code",
   "execution_count": 15,
   "metadata": {},
   "outputs": [
    {
     "name": "stdout",
     "output_type": "stream",
     "text": [
      "Total number of data:400\n",
      "Min number of points: (train)2048 (test)2048\n"
     ]
    }
   ],
   "source": [
    "from datasets.pvd_data_pc import ShapeNet15kPointCloudsPVD\n",
    "\n",
    "dataset_pvd = ShapeNet15kPointCloudsPVD(root_dir=\"./custom-dataset\",\n",
    "    categories=[\"airplane\"], split='train',\n",
    "    tr_sample_size=2048,\n",
    "    te_sample_size=2048,\n",
    "    scale=1.,\n",
    "    normalize_per_shape=False,\n",
    "    normalize_std_per_axis=False,\n",
    "    random_subsample=True)\n",
    "\n",
    "dataloader_pvd = torch.utils.data.DataLoader(dataset_pvd, \n",
    "                                               batch_size=20, \n",
    "                                               sampler=None, \n",
    "                                               shuffle=True is None, \n",
    "                                               num_workers=1, \n",
    "                                               drop_last=True)"
   ]
  },
  {
   "cell_type": "code",
   "execution_count": 57,
   "metadata": {},
   "outputs": [],
   "source": [
    "model.eval()\n",
    "with torch.no_grad():\n",
    "    for batch in dataloader_pvd:\n",
    "        input = batch[\"train_points\"].to(\"cuda\").transpose(1,2)\n",
    "        output = model(input).to(\"cuda\")\n",
    "        break"
   ]
  },
  {
   "cell_type": "code",
   "execution_count": null,
   "metadata": {},
   "outputs": [],
   "source": [
    "i = 1\n",
    "for pvd_input, output_pvcnn in zip(input, output):\n",
    "    input_np = pvd_input.squeeze().transpose(0, 1).detach().cpu().numpy()\n",
    "    output_np = output_pvcnn.squeeze().transpose(0, 1).detach().cpu().numpy()\n",
    "\n",
    "    # output_np = rotate_point_cloud_z(output_np, 90)\n",
    "    # output_np = rotate_point_cloud_y(output_np, -90)\n",
    "\n",
    "    fig = visualize_pointcloud_eval(input_np, output_np,\"PVD Output\", \"PVCNN Refinement\")\n",
    "    save_fig(fig, f\"./eval-results/pvcnn-refinement/refined-pvd-output-{i}.jpg\")\n",
    "\n",
    "    i += 1\n",
    "\n",
    "    if i > 20:\n",
    "        break"
   ]
  },
  {
   "cell_type": "code",
   "execution_count": 13,
   "metadata": {},
   "outputs": [],
   "source": [
    "input_array = []\n",
    "\n",
    "for batch in val_dataloader:\n",
    "    input = batch[\"test_points\"].to(\"cuda\")\n",
    "    input_array.append(input)"
   ]
  },
  {
   "cell_type": "code",
   "execution_count": 26,
   "metadata": {},
   "outputs": [],
   "source": [
    "model.eval()\n",
    "\n",
    "output_array = []\n",
    "for batch in dataloader_pvd:\n",
    "    with torch.no_grad():\n",
    "        input = batch[\"train_points\"].to(\"cuda\").transpose(1,2)\n",
    "        output = model(input).to(\"cuda\")\n",
    "        output_array.append(output.transpose(1,2))"
   ]
  },
  {
   "cell_type": "code",
   "execution_count": 27,
   "metadata": {},
   "outputs": [
    {
     "data": {
      "text/plain": [
       "(torch.Size([400, 2048, 3]), torch.Size([400, 2048, 3]))"
      ]
     },
     "execution_count": 27,
     "metadata": {},
     "output_type": "execute_result"
    }
   ],
   "source": [
    "input_pcs = torch.stack(input_array).view(400, 2048, 3)\n",
    "output_pcs = torch.stack(output_array).view(400, 2048, 3)\n",
    "input_pcs.shape, output_pcs.shape"
   ]
  },
  {
   "cell_type": "code",
   "execution_count": null,
   "metadata": {},
   "outputs": [],
   "source": [
    "# Just for sanity checking\n",
    "i = 1\n",
    "for gt, output_pvcnn in zip(input_pcs, output_pcs):\n",
    "    input_np = gt.squeeze().detach().cpu().numpy()\n",
    "    output_np = output_pvcnn.squeeze().detach().cpu().numpy()\n",
    "\n",
    "\n",
    "    fig = visualize_pointcloud_eval(input_np, output_np, \"ShapeNet Ground Truth\", \"PVD Output + PVCNN Refinement\")\n",
    "    i += 1\n",
    "\n",
    "    if i > 5:\n",
    "        break"
   ]
  },
  {
   "cell_type": "code",
   "execution_count": 31,
   "metadata": {},
   "outputs": [
    {
     "name": "stderr",
     "output_type": "stream",
     "text": [
      "  0%|          | 0/400 [00:00<?, ?it/s]"
     ]
    },
    {
     "name": "stdout",
     "output_type": "stream",
     "text": [
      "Jitting Chamfer 3D\n",
      "Loaded JIT 3D CUDA chamfer distance\n"
     ]
    },
    {
     "name": "stderr",
     "output_type": "stream",
     "text": [
      "100%|██████████| 400/400 [03:42<00:00,  1.80it/s]\n",
      "100%|██████████| 400/400 [03:42<00:00,  1.80it/s]\n",
      "100%|██████████| 400/400 [03:42<00:00,  1.80it/s]"
     ]
    },
    {
     "name": "stdout",
     "output_type": "stream",
     "text": [
      "{'lgan_mmd-CD': 0.06564988940954208, 'lgan_cov-CD': 0.3700000047683716, 'lgan_mmd_smp-CD': 0.021749479696154594, 'lgan_mmd-EMD': 0.5288563370704651, 'lgan_cov-EMD': 0.4074999988079071, 'lgan_mmd_smp-EMD': 0.29121336340904236, '1-NN-CD-acc_t': 0.7325000166893005, '1-NN-CD-acc_f': 0.925000011920929, '1-NN-CD-acc': 0.8287500143051147, '1-NN-EMD-acc_t': 0.6474999785423279, '1-NN-EMD-acc_f': 0.762499988079071, '1-NN-EMD-acc': 0.7049999833106995}\n"
     ]
    },
    {
     "name": "stderr",
     "output_type": "stream",
     "text": [
      "\n"
     ]
    }
   ],
   "source": [
    "from metrics.evaluation_metrics import compute_all_metrics\n",
    "\n",
    "results = compute_all_metrics(input_pcs, output_pcs, 100)\n",
    "results = {k: (v.cpu().detach().item()\n",
    "                if not isinstance(v, float) else v) for k, v in results.items()}\n",
    "\n",
    "print(results)"
   ]
  },
  {
   "cell_type": "markdown",
   "metadata": {},
   "source": [
    "# PVD + PVCNN Refinement Loss"
   ]
  },
  {
   "cell_type": "code",
   "execution_count": null,
   "metadata": {},
   "outputs": [],
   "source": [
    "loss = {'lgan_mmd-CD': 0.06564988940954208, \n",
    "        'lgan_cov-CD': 0.3700000047683716, \n",
    "        'lgan_mmd_smp-CD': 0.021749479696154594, \n",
    "        'lgan_mmd-EMD': 0.5288563370704651, \n",
    "        'lgan_cov-EMD': 0.4074999988079071, \n",
    "        'lgan_mmd_smp-EMD': 0.29121336340904236, \n",
    "        '1-NN-CD-acc_t': 0.7325000166893005, \n",
    "        '1-NN-CD-acc_f': 0.925000011920929, \n",
    "        '1-NN-CD-acc': 0.8287500143051147, \n",
    "        '1-NN-EMD-acc_t': 0.6474999785423279, \n",
    "        '1-NN-EMD-acc_f': 0.762499988079071, \n",
    "        '1-NN-EMD-acc': 0.7049999833106995}"
   ]
  },
  {
   "cell_type": "markdown",
   "metadata": {},
   "source": [
    "# PVD Loss"
   ]
  },
  {
   "cell_type": "code",
   "execution_count": 32,
   "metadata": {},
   "outputs": [],
   "source": [
    "input_array = []\n",
    "\n",
    "for batch in val_dataloader:\n",
    "    input = batch[\"test_points\"].to(\"cuda\")\n",
    "    input_array.append(input)"
   ]
  },
  {
   "cell_type": "code",
   "execution_count": 33,
   "metadata": {},
   "outputs": [],
   "source": [
    "output_array = []\n",
    "for batch in dataloader_pvd:\n",
    "    with torch.no_grad():\n",
    "        input = batch[\"train_points\"].to(\"cuda\")\n",
    "        output_array.append(input)"
   ]
  },
  {
   "cell_type": "code",
   "execution_count": 34,
   "metadata": {},
   "outputs": [
    {
     "data": {
      "text/plain": [
       "(torch.Size([400, 2048, 3]), torch.Size([400, 2048, 3]))"
      ]
     },
     "execution_count": 34,
     "metadata": {},
     "output_type": "execute_result"
    }
   ],
   "source": [
    "input_pcs = torch.stack(input_array).view(400, 2048, 3)\n",
    "output_pcs = torch.stack(output_array).view(400, 2048, 3)\n",
    "input_pcs.shape, output_pcs.shape"
   ]
  },
  {
   "cell_type": "code",
   "execution_count": 37,
   "metadata": {},
   "outputs": [
    {
     "name": "stderr",
     "output_type": "stream",
     "text": [
      "100%|██████████| 400/400 [03:42<00:00,  1.79it/s]\n",
      "100%|██████████| 400/400 [03:47<00:00,  1.78it/s]\n",
      "100%|██████████| 400/400 [03:42<00:00,  1.80it/s]"
     ]
    },
    {
     "name": "stdout",
     "output_type": "stream",
     "text": [
      "{'lgan_mmd-CD': 0.06699790805578232, 'lgan_cov-CD': 0.3474999964237213, 'lgan_mmd_smp-CD': 0.020434053614735603, 'lgan_mmd-EMD': 0.5599527955055237, 'lgan_cov-EMD': 0.3774999976158142, 'lgan_mmd_smp-EMD': 0.28745919466018677, '1-NN-CD-acc_t': 0.6075000166893005, '1-NN-CD-acc_f': 0.8774999976158142, '1-NN-CD-acc': 0.7425000071525574, '1-NN-EMD-acc_t': 0.5975000262260437, '1-NN-EMD-acc_f': 0.7475000023841858, '1-NN-EMD-acc': 0.6725000143051147}\n"
     ]
    },
    {
     "name": "stderr",
     "output_type": "stream",
     "text": [
      "\n"
     ]
    }
   ],
   "source": [
    "from metrics.evaluation_metrics import compute_all_metrics\n",
    "\n",
    "results = compute_all_metrics(input_pcs, output_pcs, 100)\n",
    "results = {k: (v.cpu().detach().item()\n",
    "                if not isinstance(v, float) else v) for k, v in results.items()}\n",
    "\n",
    "print(results)"
   ]
  },
  {
   "cell_type": "code",
   "execution_count": null,
   "metadata": {},
   "outputs": [],
   "source": [
    "loss = {'lgan_mmd-CD': 0.06699790805578232, \n",
    "        'lgan_cov-CD': 0.3474999964237213, \n",
    "        'lgan_mmd_smp-CD': 0.020434053614735603, \n",
    "        'lgan_mmd-EMD': 0.5599527955055237, \n",
    "        'lgan_cov-EMD': 0.3774999976158142, \n",
    "        'lgan_mmd_smp-EMD': 0.28745919466018677, \n",
    "        '1-NN-CD-acc_t': 0.6075000166893005, \n",
    "        '1-NN-CD-acc_f': 0.8774999976158142, \n",
    "        '1-NN-CD-acc': 0.7425000071525574, \n",
    "        '1-NN-EMD-acc_t': 0.5975000262260437, \n",
    "        '1-NN-EMD-acc_f': 0.7475000023841858, \n",
    "        '1-NN-EMD-acc': 0.6725000143051147}"
   ]
  }
 ],
 "metadata": {
  "kernelspec": {
   "display_name": "coarse-to-fine-shapes-aa7c6m2--py3.8",
   "language": "python",
   "name": "python3"
  },
  "language_info": {
   "codemirror_mode": {
    "name": "ipython",
    "version": 3
   },
   "file_extension": ".py",
   "mimetype": "text/x-python",
   "name": "python",
   "nbconvert_exporter": "python",
   "pygments_lexer": "ipython3",
   "version": "3.8.10"
  }
 },
 "nbformat": 4,
 "nbformat_minor": 2
}
